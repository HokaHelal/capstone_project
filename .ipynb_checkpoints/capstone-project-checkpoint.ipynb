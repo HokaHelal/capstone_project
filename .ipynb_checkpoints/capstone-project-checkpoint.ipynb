{
 "cells": [
  {
   "cell_type": "markdown",
   "metadata": {},
   "source": [
    "# Machine Learning Engineer Nanodegree\n",
    "\n",
    "## Capstone Project\n",
    "Mahmoud Helal, May 4th, 2019\n",
    "\n",
    "## Project: Predict Mobile App Success\n"
   ]
  },
  {
   "cell_type": "markdown",
   "metadata": {},
   "source": [
    "## I) Introduction\n",
    "\n",
    "Most new applications and startups tend to fail; 90% of startups fail and the number one for failure is the lack of market need of their product, so any startup or company intend to develop a new mobile app needs to make certain their App fulfill a market need; A model can predict application success by classifying the estimated number of downloads will occur based on previous similar applications published on the App store with similar features can help most of startups and mobile development companies to take business decisions to proceed or alter their plans from earlier stages, save money and reduce risks and increase customer satisfaction."
   ]
  },
  {
   "cell_type": "markdown",
   "metadata": {},
   "source": [
    "## II) Project Design\n",
    "\n",
    "This project will consist of 8 main stages in order to build our kernel\n",
    "\n",
    "1. **Datasets and Inputs:** will import our dataset and remove noise (NANs, duplications, ...).\n",
    "2. **Data Visualization:** will explore and represent our dataset graphically in order to have some insights.\n",
    "3. **Data Pre-processing:** will Prepare our dataset for classification phase (removing not useful features, make one-hot-encoding,..)\n",
    "4. **Evaluation Metrics:** will identify our score method that used to evaluate our classifiers.\n",
    "5. **Benchmark:** will build Linear regression classifier as a benchmark model and get baseline performance values.\n",
    "6. **Algorithms and Techniques:** will explore more classifiers (Naive Bayes, Decision Trees, SVM, Gradient Boosting) and compare results with base kernel result then choose the best two classifiers to the enhancement stage.\n",
    "7. **Enhancements:** will try to use PCA for feature reduction to enhance classification results.\n",
    "8. **Final Kernel:** based on previous results we will choose the final classifier and enhancement tuning to our kernel.\n",
    "\n",
    "Finally, we will try to test our kernel with some random data and check if our kernel behaves as expected to solve our business problem or not and give suggestions for improvement."
   ]
  },
  {
   "cell_type": "markdown",
   "metadata": {},
   "source": [
    "### 1. Datasets and Inputs\n",
    "\n",
    "The dataset that will used is \"[Google Play Store Apps](https://www.kaggle.com/lava18/google-play-store-apps)\" from [Kaggle](https://www.kaggle.com/), the dataset structured in CSV format in one file named “googleplaystore” with 10.8k rows and 13 columns each row indicates real mobile application in play store and columns represent features as follows : Application name, Category the app belongs to, Overall user rating, Number of user reviews, Size of the app, Number of user downloads/installs, Type (Paid or Free), Price, Rating, Age group the app is targeted at (Children, Mature 21+, Adult), Genres, Last Updated, Current Version, Min required Android version."
   ]
  },
  {
   "cell_type": "code",
   "execution_count": 221,
   "metadata": {},
   "outputs": [],
   "source": [
    "import numpy as np # linear algebra\n",
    "import pandas as pd # data processing, CSV file I/O (e.g. pd.read_csv)"
   ]
  },
  {
   "cell_type": "code",
   "execution_count": 222,
   "metadata": {},
   "outputs": [
    {
     "name": "stdout",
     "output_type": "stream",
     "text": [
      "Shape of the google playstore data (8886, 10)\n"
     ]
    },
    {
     "data": {
      "text/html": [
       "<div>\n",
       "<style scoped>\n",
       "    .dataframe tbody tr th:only-of-type {\n",
       "        vertical-align: middle;\n",
       "    }\n",
       "\n",
       "    .dataframe tbody tr th {\n",
       "        vertical-align: top;\n",
       "    }\n",
       "\n",
       "    .dataframe thead th {\n",
       "        text-align: right;\n",
       "    }\n",
       "</style>\n",
       "<table border=\"1\" class=\"dataframe\">\n",
       "  <thead>\n",
       "    <tr style=\"text-align: right;\">\n",
       "      <th></th>\n",
       "      <th>App</th>\n",
       "      <th>Category</th>\n",
       "      <th>Rating</th>\n",
       "      <th>Reviews</th>\n",
       "      <th>Size</th>\n",
       "      <th>Installs</th>\n",
       "      <th>Type</th>\n",
       "      <th>Price</th>\n",
       "      <th>Content Rating</th>\n",
       "      <th>Genres</th>\n",
       "      <th>Last Updated</th>\n",
       "      <th>Current Ver</th>\n",
       "      <th>Android Ver</th>\n",
       "    </tr>\n",
       "  </thead>\n",
       "  <tbody>\n",
       "    <tr>\n",
       "      <th>0</th>\n",
       "      <td>Photo Editor &amp; Candy Camera &amp; Grid &amp; ScrapBook</td>\n",
       "      <td>ART_AND_DESIGN</td>\n",
       "      <td>4.1</td>\n",
       "      <td>159</td>\n",
       "      <td>19M</td>\n",
       "      <td>10,000+</td>\n",
       "      <td>Free</td>\n",
       "      <td>0</td>\n",
       "      <td>Everyone</td>\n",
       "      <td>Art &amp; Design</td>\n",
       "      <td>January 7, 2018</td>\n",
       "      <td>1.0.0</td>\n",
       "      <td>4.0.3 and up</td>\n",
       "    </tr>\n",
       "    <tr>\n",
       "      <th>1</th>\n",
       "      <td>Coloring book moana</td>\n",
       "      <td>ART_AND_DESIGN</td>\n",
       "      <td>3.9</td>\n",
       "      <td>967</td>\n",
       "      <td>14M</td>\n",
       "      <td>500,000+</td>\n",
       "      <td>Free</td>\n",
       "      <td>0</td>\n",
       "      <td>Everyone</td>\n",
       "      <td>Art &amp; Design;Pretend Play</td>\n",
       "      <td>January 15, 2018</td>\n",
       "      <td>2.0.0</td>\n",
       "      <td>4.0.3 and up</td>\n",
       "    </tr>\n",
       "    <tr>\n",
       "      <th>2</th>\n",
       "      <td>U Launcher Lite – FREE Live Cool Themes, Hide ...</td>\n",
       "      <td>ART_AND_DESIGN</td>\n",
       "      <td>4.7</td>\n",
       "      <td>87510</td>\n",
       "      <td>8.7M</td>\n",
       "      <td>5,000,000+</td>\n",
       "      <td>Free</td>\n",
       "      <td>0</td>\n",
       "      <td>Everyone</td>\n",
       "      <td>Art &amp; Design</td>\n",
       "      <td>August 1, 2018</td>\n",
       "      <td>1.2.4</td>\n",
       "      <td>4.0.3 and up</td>\n",
       "    </tr>\n",
       "    <tr>\n",
       "      <th>3</th>\n",
       "      <td>Sketch - Draw &amp; Paint</td>\n",
       "      <td>ART_AND_DESIGN</td>\n",
       "      <td>4.5</td>\n",
       "      <td>215644</td>\n",
       "      <td>25M</td>\n",
       "      <td>50,000,000+</td>\n",
       "      <td>Free</td>\n",
       "      <td>0</td>\n",
       "      <td>Teen</td>\n",
       "      <td>Art &amp; Design</td>\n",
       "      <td>June 8, 2018</td>\n",
       "      <td>Varies with device</td>\n",
       "      <td>4.2 and up</td>\n",
       "    </tr>\n",
       "    <tr>\n",
       "      <th>4</th>\n",
       "      <td>Pixel Draw - Number Art Coloring Book</td>\n",
       "      <td>ART_AND_DESIGN</td>\n",
       "      <td>4.3</td>\n",
       "      <td>967</td>\n",
       "      <td>2.8M</td>\n",
       "      <td>100,000+</td>\n",
       "      <td>Free</td>\n",
       "      <td>0</td>\n",
       "      <td>Everyone</td>\n",
       "      <td>Art &amp; Design;Creativity</td>\n",
       "      <td>June 20, 2018</td>\n",
       "      <td>1.1</td>\n",
       "      <td>4.4 and up</td>\n",
       "    </tr>\n",
       "  </tbody>\n",
       "</table>\n",
       "</div>"
      ],
      "text/plain": [
       "                                                 App        Category  Rating  \\\n",
       "0     Photo Editor & Candy Camera & Grid & ScrapBook  ART_AND_DESIGN     4.1   \n",
       "1                                Coloring book moana  ART_AND_DESIGN     3.9   \n",
       "2  U Launcher Lite – FREE Live Cool Themes, Hide ...  ART_AND_DESIGN     4.7   \n",
       "3                              Sketch - Draw & Paint  ART_AND_DESIGN     4.5   \n",
       "4              Pixel Draw - Number Art Coloring Book  ART_AND_DESIGN     4.3   \n",
       "\n",
       "  Reviews  Size     Installs  Type Price Content Rating  \\\n",
       "0     159   19M      10,000+  Free     0       Everyone   \n",
       "1     967   14M     500,000+  Free     0       Everyone   \n",
       "2   87510  8.7M   5,000,000+  Free     0       Everyone   \n",
       "3  215644   25M  50,000,000+  Free     0           Teen   \n",
       "4     967  2.8M     100,000+  Free     0       Everyone   \n",
       "\n",
       "                      Genres      Last Updated         Current Ver  \\\n",
       "0               Art & Design   January 7, 2018               1.0.0   \n",
       "1  Art & Design;Pretend Play  January 15, 2018               2.0.0   \n",
       "2               Art & Design    August 1, 2018               1.2.4   \n",
       "3               Art & Design      June 8, 2018  Varies with device   \n",
       "4    Art & Design;Creativity     June 20, 2018                 1.1   \n",
       "\n",
       "    Android Ver  \n",
       "0  4.0.3 and up  \n",
       "1  4.0.3 and up  \n",
       "2  4.0.3 and up  \n",
       "3    4.2 and up  \n",
       "4    4.4 and up  "
      ]
     },
     "execution_count": 222,
     "metadata": {},
     "output_type": "execute_result"
    }
   ],
   "source": [
    "## Read file\n",
    "raw_data = pd.read_csv(\"data/googleplaystore.csv\")\n",
    "print('Shape of the google playstore data',data.shape)\n",
    "raw_data.head()"
   ]
  },
  {
   "cell_type": "markdown",
   "metadata": {},
   "source": [
    "We will do some data cleaning, we need to check `NAN`s percentage in our dataset, so the following code calculates NANs percentage in each columns and sort them descendingly"
   ]
  },
  {
   "cell_type": "code",
   "execution_count": 223,
   "metadata": {},
   "outputs": [
    {
     "name": "stdout",
     "output_type": "stream",
     "text": [
      "                Total  Percent (%)\n",
      "Rating           1474    13.596532\n",
      "Current Ver         8     0.073794\n",
      "Android Ver         3     0.027673\n",
      "Content Rating      1     0.009224\n",
      "Type                1     0.009224\n",
      "Last Updated        0     0.000000\n",
      "Genres              0     0.000000\n",
      "Price               0     0.000000\n",
      "Installs            0     0.000000\n",
      "Size                0     0.000000\n",
      "Reviews             0     0.000000\n",
      "Category            0     0.000000\n",
      "App                 0     0.000000\n"
     ]
    }
   ],
   "source": [
    "total = raw_data.isnull().sum().sort_values(ascending=False)\n",
    "percent = 100*(raw_data.isnull().sum()/raw_data.isnull().count()).sort_values(ascending=False)\n",
    "missing_data = pd.concat([total, percent], axis=1, keys=['Total', 'Percent (%)'])\n",
    "\n",
    "print(missing_data)"
   ]
  },
  {
   "cell_type": "markdown",
   "metadata": {},
   "source": [
    "As shown from table above the most NANs exist in Rating column with 13.6%, sadly we think Rating column is an important feature that affect application success as more rating can leads to more number of installs unlike other columns/features like Current version, Android Version,  Content Rating and Type"
   ]
  },
  {
   "cell_type": "code",
   "execution_count": 224,
   "metadata": {},
   "outputs": [
    {
     "name": "stdout",
     "output_type": "stream",
     "text": [
      "Shape of the google playstore data (9360, 13)\n"
     ]
    }
   ],
   "source": [
    "raw_data.dropna(inplace=True)\n",
    "print('Shape of the google playstore data',raw_data.shape)"
   ]
  },
  {
   "cell_type": "markdown",
   "metadata": {},
   "source": [
    "Also we will check data duplicates (entire row matching), and remove redundand data from dataset before going any further "
   ]
  },
  {
   "cell_type": "code",
   "execution_count": 225,
   "metadata": {},
   "outputs": [
    {
     "name": "stdout",
     "output_type": "stream",
     "text": [
      "The dataset contains 474 duplicate row that represent 5.064102564102564% of overall dataset \n",
      "Shape of the google playstore data (8886, 13)\n"
     ]
    }
   ],
   "source": [
    "duplicate_sum = raw_data.duplicated().sum()\n",
    "percentage = 100 * (duplicate_sum / len(raw_data.index))\n",
    "\n",
    "print('The dataset contains {} duplicate row that represent {}% of overall dataset '.format(duplicate_sum, percentage))\n",
    "raw_data=raw_data.drop_duplicates()\n",
    "print('Shape of the google playstore data',raw_data.shape)"
   ]
  },
  {
   "cell_type": "markdown",
   "metadata": {},
   "source": [
    "### 2. Data Visualization\n",
    "\n",
    "In this section we explore and visualize dataset, the graphical representation of data will allow us to better understand the dataset, data patterns and outliers can be detected using visual elements like charts and graphs. "
   ]
  },
  {
   "cell_type": "markdown",
   "metadata": {},
   "source": [
    "We will first import graph libraries "
   ]
  },
  {
   "cell_type": "code",
   "execution_count": 226,
   "metadata": {},
   "outputs": [],
   "source": [
    "import seaborn as sns # used for plot interactive graph.\n",
    "import matplotlib.pyplot as plt\n",
    "\n",
    "%matplotlib inline"
   ]
  },
  {
   "cell_type": "markdown",
   "metadata": {},
   "source": [
    "We will use `data_visual` for any manipulation needed to visualize data and leave `raw_data` untouched "
   ]
  },
  {
   "cell_type": "code",
   "execution_count": 227,
   "metadata": {},
   "outputs": [
    {
     "data": {
      "text/html": [
       "<div>\n",
       "<style scoped>\n",
       "    .dataframe tbody tr th:only-of-type {\n",
       "        vertical-align: middle;\n",
       "    }\n",
       "\n",
       "    .dataframe tbody tr th {\n",
       "        vertical-align: top;\n",
       "    }\n",
       "\n",
       "    .dataframe thead th {\n",
       "        text-align: right;\n",
       "    }\n",
       "</style>\n",
       "<table border=\"1\" class=\"dataframe\">\n",
       "  <thead>\n",
       "    <tr style=\"text-align: right;\">\n",
       "      <th></th>\n",
       "      <th>App</th>\n",
       "      <th>Category</th>\n",
       "      <th>Rating</th>\n",
       "      <th>Reviews</th>\n",
       "      <th>Size</th>\n",
       "      <th>Installs</th>\n",
       "      <th>Type</th>\n",
       "      <th>Price</th>\n",
       "      <th>Content Rating</th>\n",
       "      <th>Genres</th>\n",
       "      <th>Last Updated</th>\n",
       "      <th>Current Ver</th>\n",
       "      <th>Android Ver</th>\n",
       "    </tr>\n",
       "  </thead>\n",
       "  <tbody>\n",
       "    <tr>\n",
       "      <th>count</th>\n",
       "      <td>8886</td>\n",
       "      <td>8886</td>\n",
       "      <td>8886.000000</td>\n",
       "      <td>8886</td>\n",
       "      <td>8886</td>\n",
       "      <td>8886</td>\n",
       "      <td>8886</td>\n",
       "      <td>8886</td>\n",
       "      <td>8886</td>\n",
       "      <td>8886</td>\n",
       "      <td>8886</td>\n",
       "      <td>8886</td>\n",
       "      <td>8886</td>\n",
       "    </tr>\n",
       "    <tr>\n",
       "      <th>unique</th>\n",
       "      <td>8190</td>\n",
       "      <td>33</td>\n",
       "      <td>NaN</td>\n",
       "      <td>5990</td>\n",
       "      <td>413</td>\n",
       "      <td>19</td>\n",
       "      <td>2</td>\n",
       "      <td>73</td>\n",
       "      <td>6</td>\n",
       "      <td>115</td>\n",
       "      <td>1299</td>\n",
       "      <td>2638</td>\n",
       "      <td>31</td>\n",
       "    </tr>\n",
       "    <tr>\n",
       "      <th>top</th>\n",
       "      <td>ROBLOX</td>\n",
       "      <td>FAMILY</td>\n",
       "      <td>NaN</td>\n",
       "      <td>2</td>\n",
       "      <td>Varies with device</td>\n",
       "      <td>1,000,000+</td>\n",
       "      <td>Free</td>\n",
       "      <td>0</td>\n",
       "      <td>Everyone</td>\n",
       "      <td>Tools</td>\n",
       "      <td>August 3, 2018</td>\n",
       "      <td>Varies with device</td>\n",
       "      <td>4.1 and up</td>\n",
       "    </tr>\n",
       "    <tr>\n",
       "      <th>freq</th>\n",
       "      <td>9</td>\n",
       "      <td>1717</td>\n",
       "      <td>NaN</td>\n",
       "      <td>82</td>\n",
       "      <td>1468</td>\n",
       "      <td>1485</td>\n",
       "      <td>8275</td>\n",
       "      <td>8275</td>\n",
       "      <td>7089</td>\n",
       "      <td>732</td>\n",
       "      <td>291</td>\n",
       "      <td>1258</td>\n",
       "      <td>1987</td>\n",
       "    </tr>\n",
       "    <tr>\n",
       "      <th>mean</th>\n",
       "      <td>NaN</td>\n",
       "      <td>NaN</td>\n",
       "      <td>4.187959</td>\n",
       "      <td>NaN</td>\n",
       "      <td>NaN</td>\n",
       "      <td>NaN</td>\n",
       "      <td>NaN</td>\n",
       "      <td>NaN</td>\n",
       "      <td>NaN</td>\n",
       "      <td>NaN</td>\n",
       "      <td>NaN</td>\n",
       "      <td>NaN</td>\n",
       "      <td>NaN</td>\n",
       "    </tr>\n",
       "    <tr>\n",
       "      <th>std</th>\n",
       "      <td>NaN</td>\n",
       "      <td>NaN</td>\n",
       "      <td>0.522428</td>\n",
       "      <td>NaN</td>\n",
       "      <td>NaN</td>\n",
       "      <td>NaN</td>\n",
       "      <td>NaN</td>\n",
       "      <td>NaN</td>\n",
       "      <td>NaN</td>\n",
       "      <td>NaN</td>\n",
       "      <td>NaN</td>\n",
       "      <td>NaN</td>\n",
       "      <td>NaN</td>\n",
       "    </tr>\n",
       "    <tr>\n",
       "      <th>min</th>\n",
       "      <td>NaN</td>\n",
       "      <td>NaN</td>\n",
       "      <td>1.000000</td>\n",
       "      <td>NaN</td>\n",
       "      <td>NaN</td>\n",
       "      <td>NaN</td>\n",
       "      <td>NaN</td>\n",
       "      <td>NaN</td>\n",
       "      <td>NaN</td>\n",
       "      <td>NaN</td>\n",
       "      <td>NaN</td>\n",
       "      <td>NaN</td>\n",
       "      <td>NaN</td>\n",
       "    </tr>\n",
       "    <tr>\n",
       "      <th>25%</th>\n",
       "      <td>NaN</td>\n",
       "      <td>NaN</td>\n",
       "      <td>4.000000</td>\n",
       "      <td>NaN</td>\n",
       "      <td>NaN</td>\n",
       "      <td>NaN</td>\n",
       "      <td>NaN</td>\n",
       "      <td>NaN</td>\n",
       "      <td>NaN</td>\n",
       "      <td>NaN</td>\n",
       "      <td>NaN</td>\n",
       "      <td>NaN</td>\n",
       "      <td>NaN</td>\n",
       "    </tr>\n",
       "    <tr>\n",
       "      <th>50%</th>\n",
       "      <td>NaN</td>\n",
       "      <td>NaN</td>\n",
       "      <td>4.300000</td>\n",
       "      <td>NaN</td>\n",
       "      <td>NaN</td>\n",
       "      <td>NaN</td>\n",
       "      <td>NaN</td>\n",
       "      <td>NaN</td>\n",
       "      <td>NaN</td>\n",
       "      <td>NaN</td>\n",
       "      <td>NaN</td>\n",
       "      <td>NaN</td>\n",
       "      <td>NaN</td>\n",
       "    </tr>\n",
       "    <tr>\n",
       "      <th>75%</th>\n",
       "      <td>NaN</td>\n",
       "      <td>NaN</td>\n",
       "      <td>4.500000</td>\n",
       "      <td>NaN</td>\n",
       "      <td>NaN</td>\n",
       "      <td>NaN</td>\n",
       "      <td>NaN</td>\n",
       "      <td>NaN</td>\n",
       "      <td>NaN</td>\n",
       "      <td>NaN</td>\n",
       "      <td>NaN</td>\n",
       "      <td>NaN</td>\n",
       "      <td>NaN</td>\n",
       "    </tr>\n",
       "    <tr>\n",
       "      <th>max</th>\n",
       "      <td>NaN</td>\n",
       "      <td>NaN</td>\n",
       "      <td>5.000000</td>\n",
       "      <td>NaN</td>\n",
       "      <td>NaN</td>\n",
       "      <td>NaN</td>\n",
       "      <td>NaN</td>\n",
       "      <td>NaN</td>\n",
       "      <td>NaN</td>\n",
       "      <td>NaN</td>\n",
       "      <td>NaN</td>\n",
       "      <td>NaN</td>\n",
       "      <td>NaN</td>\n",
       "    </tr>\n",
       "  </tbody>\n",
       "</table>\n",
       "</div>"
      ],
      "text/plain": [
       "           App Category       Rating Reviews                Size    Installs  \\\n",
       "count     8886     8886  8886.000000    8886                8886        8886   \n",
       "unique    8190       33          NaN    5990                 413          19   \n",
       "top     ROBLOX   FAMILY          NaN       2  Varies with device  1,000,000+   \n",
       "freq         9     1717          NaN      82                1468        1485   \n",
       "mean       NaN      NaN     4.187959     NaN                 NaN         NaN   \n",
       "std        NaN      NaN     0.522428     NaN                 NaN         NaN   \n",
       "min        NaN      NaN     1.000000     NaN                 NaN         NaN   \n",
       "25%        NaN      NaN     4.000000     NaN                 NaN         NaN   \n",
       "50%        NaN      NaN     4.300000     NaN                 NaN         NaN   \n",
       "75%        NaN      NaN     4.500000     NaN                 NaN         NaN   \n",
       "max        NaN      NaN     5.000000     NaN                 NaN         NaN   \n",
       "\n",
       "        Type Price Content Rating Genres    Last Updated         Current Ver  \\\n",
       "count   8886  8886           8886   8886            8886                8886   \n",
       "unique     2    73              6    115            1299                2638   \n",
       "top     Free     0       Everyone  Tools  August 3, 2018  Varies with device   \n",
       "freq    8275  8275           7089    732             291                1258   \n",
       "mean     NaN   NaN            NaN    NaN             NaN                 NaN   \n",
       "std      NaN   NaN            NaN    NaN             NaN                 NaN   \n",
       "min      NaN   NaN            NaN    NaN             NaN                 NaN   \n",
       "25%      NaN   NaN            NaN    NaN             NaN                 NaN   \n",
       "50%      NaN   NaN            NaN    NaN             NaN                 NaN   \n",
       "75%      NaN   NaN            NaN    NaN             NaN                 NaN   \n",
       "max      NaN   NaN            NaN    NaN             NaN                 NaN   \n",
       "\n",
       "       Android Ver  \n",
       "count         8886  \n",
       "unique          31  \n",
       "top     4.1 and up  \n",
       "freq          1987  \n",
       "mean           NaN  \n",
       "std            NaN  \n",
       "min            NaN  \n",
       "25%            NaN  \n",
       "50%            NaN  \n",
       "75%            NaN  \n",
       "max            NaN  "
      ]
     },
     "execution_count": 227,
     "metadata": {},
     "output_type": "execute_result"
    }
   ],
   "source": [
    "data_visual = raw_data.copy()\n",
    "data_visual.describe(include='all')"
   ]
  },
  {
   "cell_type": "markdown",
   "metadata": {},
   "source": [
    "The table above gives us some insights about the dataset, for example, there are 8886 apps (after removing duplications and NANs records), there are 33 different categories and the most Apps under `FAMILY` category, rating column ranges from 1 to 5 and most dataset rating values tends to lay around (4.18 +/- 0.5), Apps have two Types Free and Paid."
   ]
  },
  {
   "cell_type": "markdown",
   "metadata": {},
   "source": [
    "The following graph will represent the number of applications per category that will indicate the category most applications belongs to in this dataset"
   ]
  },
  {
   "cell_type": "code",
   "execution_count": 228,
   "metadata": {},
   "outputs": [
    {
     "data": {
      "text/plain": [
       "Text(0.5, 1.0, 'Total apps of each Category')"
      ]
     },
     "execution_count": 228,
     "metadata": {},
     "output_type": "execute_result"
    },
    {
     "data": {
      "image/png": "[encoded data removed]",
      "text/plain": [
       "<Figure size 720x720 with 1 Axes>"
      ]
     },
     "metadata": {
      "needs_background": "light"
     },
     "output_type": "display_data"
    }
   ],
   "source": [
    "plt.figure(figsize=(10,10))\n",
    "g = sns.countplot(y=\"Category\",data=data_visual, palette = \"Set2\")\n",
    "plt.title('Total apps of each Category',size = 20)"
   ]
  },
  {
   "cell_type": "markdown",
   "metadata": {},
   "source": [
    "As shown in previous graph the largest number of apps under `FAMILY` category (above 1600 app) as mentioned earlier then `GAMES` (above 1000) and `TOOLS` (above 650), then other apps distributed among other categories."
   ]
  },
  {
   "cell_type": "markdown",
   "metadata": {},
   "source": [
    "The following graph will demonstrate the number of installations in each category this will represent the most (successful) category that mobile apps belong to"
   ]
  },
  {
   "cell_type": "code",
   "execution_count": 229,
   "metadata": {},
   "outputs": [
    {
     "data": {
      "text/plain": [
       "Text(0.5, 1.0, 'Installations in each Category')"
      ]
     },
     "execution_count": 229,
     "metadata": {},
     "output_type": "execute_result"
    },
    {
     "data": {
      "image/png": "[encoded data removed]",
      "text/plain": [
       "<Figure size 720x720 with 1 Axes>"
      ]
     },
     "metadata": {
      "needs_background": "light"
     },
     "output_type": "display_data"
    }
   ],
   "source": [
    "data_visual['Installs'] = data_visual['Installs'].str.replace(r'\\D','').astype(int)\n",
    "\n",
    "plt.figure(figsize=(10,10))\n",
    "g = sns.barplot(x=\"Installs\", y=\"Category\", data=data_visual, capsize=.3)\n",
    "plt.title('Installations in each Category',size = 20)"
   ]
  },
  {
   "cell_type": "markdown",
   "metadata": {},
   "source": [
    "As shown in previous graph the most installed apps under `COMMUNICATION` category even the number of apps wasn't high in this category (see the first graph) then the `SOCIAL` applications lets have a look into some applications that reached 1000M downloads"
   ]
  },
  {
   "cell_type": "code",
   "execution_count": 10,
   "metadata": {},
   "outputs": [
    {
     "data": {
      "text/html": [
       "<div>\n",
       "<style scoped>\n",
       "    .dataframe tbody tr th:only-of-type {\n",
       "        vertical-align: middle;\n",
       "    }\n",
       "\n",
       "    .dataframe tbody tr th {\n",
       "        vertical-align: top;\n",
       "    }\n",
       "\n",
       "    .dataframe thead th {\n",
       "        text-align: right;\n",
       "    }\n",
       "</style>\n",
       "<table border=\"1\" class=\"dataframe\">\n",
       "  <thead>\n",
       "    <tr style=\"text-align: right;\">\n",
       "      <th></th>\n",
       "      <th>App</th>\n",
       "      <th>Category</th>\n",
       "      <th>Rating</th>\n",
       "      <th>Reviews</th>\n",
       "      <th>Size</th>\n",
       "      <th>Installs</th>\n",
       "      <th>Type</th>\n",
       "      <th>Price</th>\n",
       "      <th>Content Rating</th>\n",
       "      <th>Genres</th>\n",
       "      <th>Last Updated</th>\n",
       "      <th>Current Ver</th>\n",
       "      <th>Android Ver</th>\n",
       "    </tr>\n",
       "  </thead>\n",
       "  <tbody>\n",
       "    <tr>\n",
       "      <th>152</th>\n",
       "      <td>Google Play Books</td>\n",
       "      <td>BOOKS_AND_REFERENCE</td>\n",
       "      <td>3.9</td>\n",
       "      <td>1433233</td>\n",
       "      <td>Varies with device</td>\n",
       "      <td>1000000000</td>\n",
       "      <td>Free</td>\n",
       "      <td>0</td>\n",
       "      <td>Teen</td>\n",
       "      <td>Books &amp; Reference</td>\n",
       "      <td>August 3, 2018</td>\n",
       "      <td>Varies with device</td>\n",
       "      <td>Varies with device</td>\n",
       "    </tr>\n",
       "    <tr>\n",
       "      <th>335</th>\n",
       "      <td>Messenger – Text and Video Chat for Free</td>\n",
       "      <td>COMMUNICATION</td>\n",
       "      <td>4.0</td>\n",
       "      <td>56642847</td>\n",
       "      <td>Varies with device</td>\n",
       "      <td>1000000000</td>\n",
       "      <td>Free</td>\n",
       "      <td>0</td>\n",
       "      <td>Everyone</td>\n",
       "      <td>Communication</td>\n",
       "      <td>August 1, 2018</td>\n",
       "      <td>Varies with device</td>\n",
       "      <td>Varies with device</td>\n",
       "    </tr>\n",
       "    <tr>\n",
       "      <th>336</th>\n",
       "      <td>WhatsApp Messenger</td>\n",
       "      <td>COMMUNICATION</td>\n",
       "      <td>4.4</td>\n",
       "      <td>69119316</td>\n",
       "      <td>Varies with device</td>\n",
       "      <td>1000000000</td>\n",
       "      <td>Free</td>\n",
       "      <td>0</td>\n",
       "      <td>Everyone</td>\n",
       "      <td>Communication</td>\n",
       "      <td>August 3, 2018</td>\n",
       "      <td>Varies with device</td>\n",
       "      <td>Varies with device</td>\n",
       "    </tr>\n",
       "    <tr>\n",
       "      <th>338</th>\n",
       "      <td>Google Chrome: Fast &amp; Secure</td>\n",
       "      <td>COMMUNICATION</td>\n",
       "      <td>4.3</td>\n",
       "      <td>9642995</td>\n",
       "      <td>Varies with device</td>\n",
       "      <td>1000000000</td>\n",
       "      <td>Free</td>\n",
       "      <td>0</td>\n",
       "      <td>Everyone</td>\n",
       "      <td>Communication</td>\n",
       "      <td>August 1, 2018</td>\n",
       "      <td>Varies with device</td>\n",
       "      <td>Varies with device</td>\n",
       "    </tr>\n",
       "    <tr>\n",
       "      <th>340</th>\n",
       "      <td>Gmail</td>\n",
       "      <td>COMMUNICATION</td>\n",
       "      <td>4.3</td>\n",
       "      <td>4604324</td>\n",
       "      <td>Varies with device</td>\n",
       "      <td>1000000000</td>\n",
       "      <td>Free</td>\n",
       "      <td>0</td>\n",
       "      <td>Everyone</td>\n",
       "      <td>Communication</td>\n",
       "      <td>August 2, 2018</td>\n",
       "      <td>Varies with device</td>\n",
       "      <td>Varies with device</td>\n",
       "    </tr>\n",
       "  </tbody>\n",
       "</table>\n",
       "</div>"
      ],
      "text/plain": [
       "                                          App             Category  Rating  \\\n",
       "152                         Google Play Books  BOOKS_AND_REFERENCE     3.9   \n",
       "335  Messenger – Text and Video Chat for Free        COMMUNICATION     4.0   \n",
       "336                        WhatsApp Messenger        COMMUNICATION     4.4   \n",
       "338              Google Chrome: Fast & Secure        COMMUNICATION     4.3   \n",
       "340                                     Gmail        COMMUNICATION     4.3   \n",
       "\n",
       "      Reviews                Size    Installs  Type Price Content Rating  \\\n",
       "152   1433233  Varies with device  1000000000  Free     0           Teen   \n",
       "335  56642847  Varies with device  1000000000  Free     0       Everyone   \n",
       "336  69119316  Varies with device  1000000000  Free     0       Everyone   \n",
       "338   9642995  Varies with device  1000000000  Free     0       Everyone   \n",
       "340   4604324  Varies with device  1000000000  Free     0       Everyone   \n",
       "\n",
       "                Genres    Last Updated         Current Ver         Android Ver  \n",
       "152  Books & Reference  August 3, 2018  Varies with device  Varies with device  \n",
       "335      Communication  August 1, 2018  Varies with device  Varies with device  \n",
       "336      Communication  August 3, 2018  Varies with device  Varies with device  \n",
       "338      Communication  August 1, 2018  Varies with device  Varies with device  \n",
       "340      Communication  August 2, 2018  Varies with device  Varies with device  "
      ]
     },
     "execution_count": 10,
     "metadata": {},
     "output_type": "execute_result"
    }
   ],
   "source": [
    "data_visual[data_visual.Installs == 1000000000].head()"
   ]
  },
  {
   "cell_type": "markdown",
   "metadata": {},
   "source": [
    "Most of the applications are very known applications (Google Play Books, WhatsApp, Chrome, Gmail) and they are under the communication category (except Google Play Books)"
   ]
  },
  {
   "cell_type": "markdown",
   "metadata": {},
   "source": [
    "### 3.\tData Pre-processing\n",
    "In this section should demonstrate preprocessing data by removing noise (duplicates, NANs, outliers,...) however, this part done earlier just after importing dataset, to deal with clean data in data visualization section, however in this part we will prepare data for classification to enhance classifier accuracy and our kernel performance also will work on 'Installs' column as it considered our target labels"
   ]
  },
  {
   "cell_type": "markdown",
   "metadata": {},
   "source": [
    "In order to facilitate our work we implement 'preprocessor_data' method that takes raw_data and prepare the dataset for classification as follows:\n",
    "\n",
    "* Will cast features with their datatypes (instead of an object) so columns Reviews will cast to int, Last Updated to date-time, Rating and price to float (and remove $ from Price column).\n",
    "* Will encode features (Type, Category, Content Rating) by label encoding method as most articles state classifiers do a better job with numeric features.\n",
    "* One-hot-encoding will be applied to Genres features and handle Apps with multiple Genres. \n",
    "* Replace 'Varies with device' values Size column with an estimated average size in the same category, also unified size values by converting Megabytes and Kilobytes into Bytes, then normalizing App size values. \n",
    "\n",
    "* Sorting data by 'Last Updated' values that make data sorted from old to new, this step is necessary for the next stage (split train and test sets) to make test set contains newer data which simulate the old data used to train our kernel and the new data is used for prediction\n",
    "* Remove un-important features that we think it'll affect a lot like (App, Current Ver, Android Ver, Last Updated), as Last Updated used only for sorting and more need as a feature for classifiers"
   ]
  },
  {
   "cell_type": "markdown",
   "metadata": {},
   "source": [
    "'Installs' columns considered our targets/labels for our classifiers, as we need to detect our App success based on the number of downloads we should categorize our target as follows\n",
    "\n",
    "* The number of installs below 5K will consider a _**failed application**_ under category (zero).\n",
    "* The number of installs between 5K and below 1M will consider a _**limited success application**_ under category (one).\n",
    "* The number of installs above 1M will consider a _**successful application**_ under category (two)."
   ]
  },
  {
   "cell_type": "code",
   "execution_count": 230,
   "metadata": {},
   "outputs": [],
   "source": [
    "from sklearn import preprocessing\n",
    "\n",
    "def encode_feature(data_feature):\n",
    "    le = preprocessing.LabelEncoder()\n",
    "    new_label = le.fit_transform(data_feature)\n",
    "    return new_label"
   ]
  },
  {
   "cell_type": "code",
   "execution_count": 231,
   "metadata": {},
   "outputs": [],
   "source": [
    "def preprocessor_data(data):\n",
    "    data.drop(labels = ['App', 'Current Ver','Android Ver'], axis = 1, inplace = True)\n",
    "    \n",
    "    data['Last Updated']= pd.to_datetime(data['Last Updated'], format='%B %d, %Y')\n",
    "    data['Installs'] = data['Installs'].str.replace(r'\\D','').astype(int)\n",
    "    data['Price']=data['Price'].str.replace('$','').astype(float)\n",
    "\n",
    "    data['Reviews']=data['Reviews'].astype(int)\n",
    "    data['Rating']=data['Rating'].astype(float)\n",
    "\n",
    "    data['Type'] = encode_feature(data['Type'])\n",
    "    data['Category'] = encode_feature(data['Category'])\n",
    "    data['Content Rating'] = encode_feature(data['Content Rating'])\n",
    "    \n",
    "    data['Size'].replace('Varies with device', np.nan, inplace = True ) \n",
    "    data['Size']= (data['Size'].replace(r'[kM]+$', '', regex=True).astype(float) * \\\n",
    "             data['Size'].str.extract(r'[\\d\\.]+([KM]+)', expand=False)\n",
    "            .fillna(1)\n",
    "            .replace(['k','M'], [10**3, 10**6]).astype(int))\n",
    "    data['Size'].fillna(data.groupby('Category')['Size'].transform('mean'),inplace = True)\n",
    "    data['Size'] =(data['Size']-data['Size'].min())/(data['Size'].max()-data['Size'].min())\n",
    "\n",
    "    data2 = data['Genres'].str.get_dummies(sep=';').rename(lambda x: 'Genres_' + x, axis='columns')\n",
    "    data = pd.concat([data,data2],axis=1)\n",
    "    data.drop(labels = ['Genres'], axis = 1, inplace = True)\n",
    "    \n",
    "    data.loc[data['Installs'] < 5000, 'Installs'] = 0 \n",
    "    data.loc[(data['Installs'] >= 5000) & (data['Installs'] < 1000000), 'Installs'] = 1 \n",
    "    data.loc[data['Installs'] >= 1000000, 'Installs'] = 2\n",
    "    \n",
    "    data = data.sort_values(by=['Last Updated'])\n",
    "    data.drop(labels = ['Last Updated'], axis = 1, inplace = True)\n",
    "\n",
    "    return data"
   ]
  },
  {
   "cell_type": "code",
   "execution_count": 232,
   "metadata": {},
   "outputs": [
    {
     "name": "stdout",
     "output_type": "stream",
     "text": [
      "Shape after preprocessed_data data (8886, 61)\n"
     ]
    },
    {
     "data": {
      "text/html": [
       "<div>\n",
       "<style scoped>\n",
       "    .dataframe tbody tr th:only-of-type {\n",
       "        vertical-align: middle;\n",
       "    }\n",
       "\n",
       "    .dataframe tbody tr th {\n",
       "        vertical-align: top;\n",
       "    }\n",
       "\n",
       "    .dataframe thead th {\n",
       "        text-align: right;\n",
       "    }\n",
       "</style>\n",
       "<table border=\"1\" class=\"dataframe\">\n",
       "  <thead>\n",
       "    <tr style=\"text-align: right;\">\n",
       "      <th></th>\n",
       "      <th>Category</th>\n",
       "      <th>Rating</th>\n",
       "      <th>Reviews</th>\n",
       "      <th>Size</th>\n",
       "      <th>Installs</th>\n",
       "      <th>Type</th>\n",
       "      <th>Price</th>\n",
       "      <th>Content Rating</th>\n",
       "      <th>Genres_Action</th>\n",
       "      <th>Genres_Action &amp; Adventure</th>\n",
       "      <th>...</th>\n",
       "      <th>Genres_Simulation</th>\n",
       "      <th>Genres_Social</th>\n",
       "      <th>Genres_Sports</th>\n",
       "      <th>Genres_Strategy</th>\n",
       "      <th>Genres_Tools</th>\n",
       "      <th>Genres_Travel &amp; Local</th>\n",
       "      <th>Genres_Trivia</th>\n",
       "      <th>Genres_Video Players &amp; Editors</th>\n",
       "      <th>Genres_Weather</th>\n",
       "      <th>Genres_Word</th>\n",
       "    </tr>\n",
       "  </thead>\n",
       "  <tbody>\n",
       "    <tr>\n",
       "      <th>10712</th>\n",
       "      <td>26</td>\n",
       "      <td>4.4</td>\n",
       "      <td>61392</td>\n",
       "      <td>0.168956</td>\n",
       "      <td>2</td>\n",
       "      <td>0</td>\n",
       "      <td>0.00</td>\n",
       "      <td>1</td>\n",
       "      <td>0</td>\n",
       "      <td>0</td>\n",
       "      <td>...</td>\n",
       "      <td>0</td>\n",
       "      <td>0</td>\n",
       "      <td>0</td>\n",
       "      <td>0</td>\n",
       "      <td>0</td>\n",
       "      <td>0</td>\n",
       "      <td>0</td>\n",
       "      <td>0</td>\n",
       "      <td>0</td>\n",
       "      <td>0</td>\n",
       "    </tr>\n",
       "    <tr>\n",
       "      <th>10408</th>\n",
       "      <td>14</td>\n",
       "      <td>4.3</td>\n",
       "      <td>320334</td>\n",
       "      <td>0.270000</td>\n",
       "      <td>2</td>\n",
       "      <td>0</td>\n",
       "      <td>0.00</td>\n",
       "      <td>4</td>\n",
       "      <td>1</td>\n",
       "      <td>0</td>\n",
       "      <td>...</td>\n",
       "      <td>0</td>\n",
       "      <td>0</td>\n",
       "      <td>0</td>\n",
       "      <td>0</td>\n",
       "      <td>0</td>\n",
       "      <td>0</td>\n",
       "      <td>0</td>\n",
       "      <td>0</td>\n",
       "      <td>0</td>\n",
       "      <td>0</td>\n",
       "    </tr>\n",
       "    <tr>\n",
       "      <th>10718</th>\n",
       "      <td>12</td>\n",
       "      <td>3.9</td>\n",
       "      <td>28</td>\n",
       "      <td>0.150000</td>\n",
       "      <td>1</td>\n",
       "      <td>0</td>\n",
       "      <td>0.00</td>\n",
       "      <td>1</td>\n",
       "      <td>0</td>\n",
       "      <td>0</td>\n",
       "      <td>...</td>\n",
       "      <td>0</td>\n",
       "      <td>0</td>\n",
       "      <td>0</td>\n",
       "      <td>0</td>\n",
       "      <td>0</td>\n",
       "      <td>0</td>\n",
       "      <td>0</td>\n",
       "      <td>0</td>\n",
       "      <td>0</td>\n",
       "      <td>0</td>\n",
       "    </tr>\n",
       "    <tr>\n",
       "      <th>10209</th>\n",
       "      <td>29</td>\n",
       "      <td>4.3</td>\n",
       "      <td>434</td>\n",
       "      <td>0.036000</td>\n",
       "      <td>1</td>\n",
       "      <td>0</td>\n",
       "      <td>0.00</td>\n",
       "      <td>1</td>\n",
       "      <td>0</td>\n",
       "      <td>0</td>\n",
       "      <td>...</td>\n",
       "      <td>0</td>\n",
       "      <td>0</td>\n",
       "      <td>0</td>\n",
       "      <td>0</td>\n",
       "      <td>1</td>\n",
       "      <td>0</td>\n",
       "      <td>0</td>\n",
       "      <td>0</td>\n",
       "      <td>0</td>\n",
       "      <td>0</td>\n",
       "    </tr>\n",
       "    <tr>\n",
       "      <th>10760</th>\n",
       "      <td>15</td>\n",
       "      <td>4.4</td>\n",
       "      <td>35</td>\n",
       "      <td>0.024000</td>\n",
       "      <td>0</td>\n",
       "      <td>1</td>\n",
       "      <td>7.99</td>\n",
       "      <td>1</td>\n",
       "      <td>0</td>\n",
       "      <td>0</td>\n",
       "      <td>...</td>\n",
       "      <td>0</td>\n",
       "      <td>0</td>\n",
       "      <td>0</td>\n",
       "      <td>0</td>\n",
       "      <td>0</td>\n",
       "      <td>0</td>\n",
       "      <td>0</td>\n",
       "      <td>0</td>\n",
       "      <td>0</td>\n",
       "      <td>0</td>\n",
       "    </tr>\n",
       "  </tbody>\n",
       "</table>\n",
       "<p>5 rows × 61 columns</p>\n",
       "</div>"
      ],
      "text/plain": [
       "       Category  Rating  Reviews      Size  Installs  Type  Price  \\\n",
       "10712        26     4.4    61392  0.168956         2     0   0.00   \n",
       "10408        14     4.3   320334  0.270000         2     0   0.00   \n",
       "10718        12     3.9       28  0.150000         1     0   0.00   \n",
       "10209        29     4.3      434  0.036000         1     0   0.00   \n",
       "10760        15     4.4       35  0.024000         0     1   7.99   \n",
       "\n",
       "       Content Rating  Genres_Action  Genres_Action & Adventure  ...  \\\n",
       "10712               1              0                          0  ...   \n",
       "10408               4              1                          0  ...   \n",
       "10718               1              0                          0  ...   \n",
       "10209               1              0                          0  ...   \n",
       "10760               1              0                          0  ...   \n",
       "\n",
       "       Genres_Simulation  Genres_Social  Genres_Sports  Genres_Strategy  \\\n",
       "10712                  0              0              0                0   \n",
       "10408                  0              0              0                0   \n",
       "10718                  0              0              0                0   \n",
       "10209                  0              0              0                0   \n",
       "10760                  0              0              0                0   \n",
       "\n",
       "       Genres_Tools  Genres_Travel & Local  Genres_Trivia  \\\n",
       "10712             0                      0              0   \n",
       "10408             0                      0              0   \n",
       "10718             0                      0              0   \n",
       "10209             1                      0              0   \n",
       "10760             0                      0              0   \n",
       "\n",
       "       Genres_Video Players & Editors  Genres_Weather  Genres_Word  \n",
       "10712                               0               0            0  \n",
       "10408                               0               0            0  \n",
       "10718                               0               0            0  \n",
       "10209                               0               0            0  \n",
       "10760                               0               0            0  \n",
       "\n",
       "[5 rows x 61 columns]"
      ]
     },
     "execution_count": 232,
     "metadata": {},
     "output_type": "execute_result"
    }
   ],
   "source": [
    "#dropping of unrelated and unnecessary items\n",
    "preprocessed_data = preprocessor_data(raw_data.copy())\n",
    "print('Shape after preprocessed_data data',preprocessed_data.shape)\n",
    "preprocessed_data.tail()"
   ]
  },
  {
   "cell_type": "markdown",
   "metadata": {},
   "source": [
    "We want to check the number of Apps under every Installs/target category in order to detect if our dataset is balanced or not i.e. Apps are equally distributed under every Installs/target."
   ]
  },
  {
   "cell_type": "code",
   "execution_count": 233,
   "metadata": {},
   "outputs": [
    {
     "data": {
      "text/plain": [
       "0    1336\n",
       "1    3499\n",
       "2    4051\n",
       "Name: Installs, dtype: int64"
      ]
     },
     "execution_count": 233,
     "metadata": {},
     "output_type": "execute_result"
    }
   ],
   "source": [
    "preprocessed_data['Installs'].value_counts().sort_index()"
   ]
  },
  {
   "cell_type": "markdown",
   "metadata": {},
   "source": [
    "As appears from results above the dataset are not balanced as 15% in category 0 (failed), 39% in category 1 (limited success), and 46% in category 2 (success)."
   ]
  },
  {
   "cell_type": "markdown",
   "metadata": {},
   "source": [
    "The last step is to split the dataset into training and testing sets we will use 75% of data as a training set and 25% as testing set taking in consideration the newer data are in prediction as mentioned previously"
   ]
  },
  {
   "cell_type": "code",
   "execution_count": 236,
   "metadata": {},
   "outputs": [
    {
     "name": "stdout",
     "output_type": "stream",
     "text": [
      "X_train Shape : (6664, 60), y_train Shape : (6664,)\n",
      "X_test  Shape : (2222, 60), y_test  Shape : (2222,)\n"
     ]
    }
   ],
   "source": [
    "from sklearn.model_selection import train_test_split \n",
    "\n",
    "train_label = preprocessed_data['Installs']\n",
    "train_data = preprocessed_data.drop('Installs', axis=1)\n",
    "\n",
    "# TODO: Split the data into training and testing sets(0.25) using the given feature as the target\n",
    "X_train, X_test, y_train, y_test = train_test_split(train_data, train_label, test_size=0.25, shuffle=False)\n",
    "\n",
    "print('X_train Shape : {}, y_train Shape : {}'.format(X_train.shape, y_train.shape))\n",
    "print('X_test  Shape : {}, y_test  Shape : {}'.format(X_test.shape,  y_test.shape ))"
   ]
  },
  {
   "cell_type": "markdown",
   "metadata": {},
   "source": [
    "### 4. Evaluation Metrics\n",
    "\n",
    "The main evaluation method that will be used to measure kernel performance is f beta score with beta = 1; F1 score is considered a good evaluation metric for unbalanced datasets, the optimal value at 1 for perfect classifier and worst value at 0 for random classifier, we will implement 'performance_metric' method to evaluate classifiers performance."
   ]
  },
  {
   "cell_type": "code",
   "execution_count": 234,
   "metadata": {},
   "outputs": [],
   "source": [
    "from sklearn.metrics import f1_score\n",
    "\n",
    "def performance_metric(y_true, y_predict):\n",
    "    score = f1_score(y_true, y_predict, average='micro')\n",
    "    \n",
    "    return score"
   ]
  },
  {
   "cell_type": "markdown",
   "metadata": {},
   "source": [
    "We will just make a small test for 'performance_metric' method to make sure it will behave as we expected."
   ]
  },
  {
   "cell_type": "code",
   "execution_count": 235,
   "metadata": {},
   "outputs": [
    {
     "name": "stdout",
     "output_type": "stream",
     "text": [
      "bad score = (0.0), best score = (1.0), random score = (0.5) \n"
     ]
    }
   ],
   "source": [
    "y_true = [0, 1, 2, 0, 1, 2]\n",
    "y_pred = [0, 2, 2, 0, 0, 1] # 3 labels out of 6 are correct (0%)\n",
    "y_pred_bad = [1, 2, 1, 2, 0, 1] # 0 labels out of 6 are correct (50%)\n",
    "\n",
    "right_score =  performance_metric(y_true, y_true)\n",
    "score =  performance_metric(y_true, y_pred)\n",
    "bad_score =  performance_metric(y_true, y_pred_bad)  \n",
    "\n",
    "\n",
    "print('bad score = ({}), best score = ({}), random score = ({}) '.format(bad_score, right_score, score))"
   ]
  },
  {
   "cell_type": "markdown",
   "metadata": {},
   "source": [
    "### 5. Benchmark\n",
    "\n",
    "In this section we will build the basic kernel with simple classifier (Logistic Regression) and the output performance will be used as the datum for further classifiers and enhancements applied to the kernel to compare how far our kernel progress."
   ]
  },
  {
   "cell_type": "markdown",
   "metadata": {},
   "source": [
    "We will implement 'evaluate_classifier' method that will be used to evaluate our benchmark model and further implemented models"
   ]
  },
  {
   "cell_type": "code",
   "execution_count": 243,
   "metadata": {},
   "outputs": [],
   "source": [
    "from time import time\n",
    "\n",
    "def evaluate_classifier(cls, X_train, X_test, y_train, y_test):\n",
    "    \n",
    "    start_train = time() # Get start time\n",
    "    cls.fit(X_train,y_train)\n",
    "    end_train = time() # Get end time\n",
    "\n",
    "    start_test = time() # Get start time\n",
    "    y_train_pred = cls.predict(X_train)\n",
    "    y_test_pred = cls.predict(X_test)\n",
    "    end_test = time() # Get end time\n",
    "\n",
    "    y_train_score =  performance_metric(y_train, y_train_pred)\n",
    "    y_test_score =  performance_metric(y_test, y_test_pred)\n",
    "\n",
    "    train_time = end_train - start_train\n",
    "    test_time = end_test - start_test\n",
    "    \n",
    "    print('- Classifier[{}]\\n- Training f1-score = ({:.4f}) in {:.4f}s.\\n- Testing f1-score = ({:.4f}) in {:.4f}s.'.format(cls.__class__.__name__,y_train_score, train_time, y_test_score, test_time))"
   ]
  },
  {
   "cell_type": "markdown",
   "metadata": {},
   "source": [
    "We will evaluate Logistic Regression classifier and analyze output results, Logistic Regression considered very fast algorithm, and easy to implement and can handle the large number of dataset."
   ]
  },
  {
   "cell_type": "code",
   "execution_count": 244,
   "metadata": {},
   "outputs": [
    {
     "name": "stdout",
     "output_type": "stream",
     "text": [
      "- Classifier[LogisticRegression]\n",
      "- Training f1-score = (0.4203) in 0.0939s.\n",
      "- Testing f1-score = (0.7385) in 0.0140s.\n"
     ]
    }
   ],
   "source": [
    "from sklearn.linear_model import LogisticRegression\n",
    "\n",
    "clf_lr = LogisticRegression(multi_class='ovr', solver='liblinear')\n",
    "evaluate_classifier(clf_lr, X_train, X_test, y_train, y_test)"
   ]
  },
  {
   "cell_type": "markdown",
   "metadata": {},
   "source": [
    "As expected Logistic Regression classifier is very fast classifier and gives acceptable results as prediction score = 0.73 however, we need to improve performance and reach 0.85 ~ 0.9 in order to build a good kernel."
   ]
  },
  {
   "cell_type": "markdown",
   "metadata": {},
   "source": [
    "### 6. Algorithms and Techniques\n",
    "In this section, we will explore four more classifiers (Naive Bayes, decision trees, SVM, Gradient Boosting) and compare results with base kernel result then choose the best two classifiers to the enhancement stage"
   ]
  },
  {
   "cell_type": "markdown",
   "metadata": {},
   "source": [
    "**First** will test _Naive Bayes_ classifier, NBC is based on Bayes' Theorem which describes the probability of a certain event, based on prior knowledge of conditions that might be related to this event.   "
   ]
  },
  {
   "cell_type": "code",
   "execution_count": 245,
   "metadata": {},
   "outputs": [
    {
     "name": "stdout",
     "output_type": "stream",
     "text": [
      "- Classifier[GaussianNB]\n",
      "- Training f1-score = (0.7375) in 0.0320s.\n",
      "- Testing f1-score = (0.8339) in 0.0800s.\n"
     ]
    }
   ],
   "source": [
    "from sklearn.naive_bayes import GaussianNB\n",
    "\n",
    "clf_gnb = GaussianNB()\n",
    "\n",
    "evaluate_classifier(clf_gnb, X_train, X_test, y_train, y_test)"
   ]
  },
  {
   "cell_type": "markdown",
   "metadata": {},
   "source": [
    "**Second** _Decision Tree_ classifier, DTC goal is to create a model that predicts a target based on input features using Tree models, in these model leaves represent class labels and branches represent features conjunctions that lead to those class labels."
   ]
  },
  {
   "cell_type": "code",
   "execution_count": 246,
   "metadata": {},
   "outputs": [
    {
     "name": "stdout",
     "output_type": "stream",
     "text": [
      "- Classifier[DecisionTreeClassifier]\n",
      "- Training f1-score = (1.0000) in 0.1179s.\n",
      "- Testing f1-score = (0.9032) in 0.0170s.\n"
     ]
    }
   ],
   "source": [
    "from sklearn.tree import DecisionTreeClassifier\n",
    "\n",
    "clf_dtc = DecisionTreeClassifier(random_state=333)\n",
    "\n",
    "evaluate_classifier(clf_dtc, X_train, X_test, y_train, y_test)"
   ]
  },
  {
   "cell_type": "markdown",
   "metadata": {},
   "source": [
    "**Third** is _Support Vector Machine_ classifier, SVM is considered a robust classifier that aims to find optimal hyperplane that divides feature space by finding the maximum distance between hyperplane and the closest features for all classes (margin), also SVM can be a non-linear classifier if non-linear kernel function is used, the following implementation will use default SVM values except for gamma and kernel type as it should mention for multiclass data"
   ]
  },
  {
   "cell_type": "code",
   "execution_count": 247,
   "metadata": {},
   "outputs": [
    {
     "name": "stdout",
     "output_type": "stream",
     "text": [
      "- Classifier[SVC]\n",
      "- Training f1-score = (0.9359) in 19.9859s.\n",
      "- Testing f1-score = (0.8969) in 12.7918s.\n"
     ]
    }
   ],
   "source": [
    "from sklearn.svm import SVC\n",
    "\n",
    "clf_svc = SVC(random_state=333, gamma='auto', kernel='rbf')\n",
    "evaluate_classifier(clf_svc, X_train, X_test, y_train, y_test)"
   ]
  },
  {
   "cell_type": "markdown",
   "metadata": {},
   "source": [
    "**Fourth** is _Gradient Boosting_ Ensemble Classifier and it's recommended from the article mentioned in the course \"If linear regression was a Toyota Camry, then gradient boosting would be a UH-60 Blackhawk Helicopter\" [SOURCE](http://blog.kaggle.com/2017/01/23/a-kaggle-master-explains-gradient-boosting/), also author mentioned it used to win many Kaggle competitions."
   ]
  },
  {
   "cell_type": "code",
   "execution_count": 248,
   "metadata": {
    "scrolled": true
   },
   "outputs": [
    {
     "name": "stdout",
     "output_type": "stream",
     "text": [
      "- Classifier[GradientBoostingClassifier]\n",
      "- Training f1-score = (0.9253) in 7.9383s.\n",
      "- Testing f1-score = (0.9383) in 0.1000s.\n"
     ]
    }
   ],
   "source": [
    "from sklearn.ensemble import GradientBoostingClassifier\n",
    "\n",
    "clf_gbc = GradientBoostingClassifier(random_state=333)\n",
    "\n",
    "evaluate_classifier(clf_gbc, X_train, X_test, y_train, y_test)"
   ]
  },
  {
   "cell_type": "markdown",
   "metadata": {},
   "source": [
    "#### Results and observations\n",
    "\n",
    "As shown from results above the top classifiers are Gradient Boosting Classifier with score = 0.938 and Decision Tree Classifier with score = 0.90, SVM was very close with score = 0.89 and although NBC is the last score = 0.83, but it considered the fastest training algorithm between the other four algorithms, overall the results reached our expectations as we hope to get results from 0.85~0.9, the graph below shows F1-Score result for each mentioned classifier."
   ]
  },
  {
   "cell_type": "code",
   "execution_count": 276,
   "metadata": {},
   "outputs": [
    {
     "data": {
      "text/plain": [
       "Text(0.5, 1.0, 'F1-Score For Each Classifier')"
      ]
     },
     "execution_count": 276,
     "metadata": {},
     "output_type": "execute_result"
    },
    {
     "data": {
      "image/png": "[encoded data removed]",
      "text/plain": [
       "<Figure size 576x576 with 1 Axes>"
      ]
     },
     "metadata": {
      "needs_background": "light"
     },
     "output_type": "display_data"
    }
   ],
   "source": [
    "clf_scores_plt = pd.DataFrame({'Classifier':['LogisticRegression', 'GaussianNB', 'DecisionTree', 'SVC', 'GradientBoosting', 'LogisticRegression', 'GaussianNB', 'DecisionTree', 'SVC', 'GradientBoosting'],\n",
    "'Score':['Train Score' ,'Train Score' ,'Train Score' ,'Train Score' ,'Train Score' ,'Test Score' ,'Test Score' ,'Test Score' ,'Test Score' ,'Test Score'],\n",
    "'Values':[0.4203, 0.7375, 1.0000, 0.9359, 0.9253, 0.7385, 0.8339, 0.9032, 0.8969, 0.9383]})\n",
    "\n",
    "plt.figure(figsize=(8,8))\n",
    "sns.barplot(x=\"Classifier\",y=\"Values\", hue=\"Score\",data=clf_scores_plt)\n",
    "plt.title('F1-Score For Each Classifier',size = 20)"
   ]
  },
  {
   "cell_type": "markdown",
   "metadata": {},
   "source": [
    "As mentioned NBC considered fastest algorithm with least (and considered not bad) result, in other hand SVM considered the slowest algorithm in both training and prediction phases the graph below demonstrates Time consumed by each classifier."
   ]
  },
  {
   "cell_type": "code",
   "execution_count": 277,
   "metadata": {},
   "outputs": [
    {
     "data": {
      "text/plain": [
       "Text(0.5, 1.0, 'Train/Test Time For Each Classifier')"
      ]
     },
     "execution_count": 277,
     "metadata": {},
     "output_type": "execute_result"
    },
    {
     "data": {
      "image/png": "[encoded data removed]",
      "text/plain": [
       "<Figure size 576x576 with 1 Axes>"
      ]
     },
     "metadata": {
      "needs_background": "light"
     },
     "output_type": "display_data"
    }
   ],
   "source": [
    "clf_time_plt = pd.DataFrame({'Classifier':['LogisticRegression', 'GaussianNB', 'DecisionTree', 'SVC', 'GradientBoosting', 'LogisticRegression', 'GaussianNB', 'DecisionTree', 'SVC', 'GradientBoosting'],\n",
    "'Time':['Train Time', 'Train Time', 'Train Time', 'Train Time', 'Train Time', 'Test Time', 'Test Time','Test Time','Test Time','Test Time'],\n",
    "'Seconds':[0.0939, 0.0320, 0.1179, 19.9859, 7.9383, 0.0140, 0.0800, 0.0170, 12.7918, 0.1000]})\n",
    "\n",
    "plt.figure(figsize=(8,8))\n",
    "ax = sns.barplot(x=\"Classifier\",y=\"Seconds\", hue=\"Time\",data=clf_time_plt)\n",
    "plt.title('Train/Test Time For Each Classifier',size = 20)"
   ]
  },
  {
   "cell_type": "markdown",
   "metadata": {},
   "source": [
    "#### Kernel Reliability\n",
    "\n",
    "We will use cross-validation technique to test classifiers reliability, cross-validation divides the training data into k parts (k=10 in our implementation), then using 9 parts as a training dataset and test with the remaining part (validation dataset) then repeat this operation 10-times then the final result is the average score of 10 trails."
   ]
  },
  {
   "cell_type": "code",
   "execution_count": 250,
   "metadata": {},
   "outputs": [],
   "source": [
    "from sklearn.model_selection import cross_validate\n",
    "from sklearn.metrics.scorer import make_scorer\n",
    "\n",
    "def coss_validate_clf(cls, X_train, y_train):\n",
    "    fone_scorer = make_scorer(f1_score, average='micro')\n",
    "    scores = cross_validate(cls, X_train, y_train, cv=10,scoring=fone_scorer, return_train_score=True)\n",
    "    print('--------------Classifier [%s] ----------------'  % (cls.__class__.__name__))\n",
    "    print(\"- Train score: %0.2f (+/- %0.2f)\" % (scores['train_score'].mean(), scores['train_score'].std() * 2))\n",
    "    print(\"- Test score: %0.2f (+/- %0.2f)\" % (scores['test_score'].mean(), scores['test_score'].std() * 2))"
   ]
  },
  {
   "cell_type": "code",
   "execution_count": 251,
   "metadata": {},
   "outputs": [
    {
     "name": "stdout",
     "output_type": "stream",
     "text": [
      "--------------Classifier [LogisticRegression] ----------------\n",
      "- Train score: 0.55 (+/- 0.33)\n",
      "- Test score: 0.54 (+/- 0.34)\n",
      "--------------Classifier [GaussianNB] ----------------\n",
      "- Train score: 0.74 (+/- 0.01)\n",
      "- Test score: 0.74 (+/- 0.08)\n",
      "--------------Classifier [DecisionTreeClassifier] ----------------\n",
      "- Train score: 1.00 (+/- 0.00)\n",
      "- Test score: 0.86 (+/- 0.04)\n",
      "--------------Classifier [SVC] ----------------\n",
      "- Train score: 0.94 (+/- 0.00)\n",
      "- Test score: 0.83 (+/- 0.03)\n",
      "--------------Classifier [GradientBoostingClassifier] ----------------\n",
      "- Train score: 0.93 (+/- 0.00)\n",
      "- Test score: 0.90 (+/- 0.02)\n"
     ]
    }
   ],
   "source": [
    "coss_validate_clf(clf_lr, X_train, y_train)\n",
    "\n",
    "coss_validate_clf(clf_gnb, X_train, y_train)\n",
    "coss_validate_clf(clf_dtc, X_train, y_train)\n",
    "coss_validate_clf(clf_svc, X_train, y_train)\n",
    "coss_validate_clf(clf_gbc, X_train, y_train)"
   ]
  },
  {
   "cell_type": "markdown",
   "metadata": {},
   "source": [
    "Again _Gradient Boosting Classifier_ and  _Decision Tree Classifier_ proves there are most reliable classifiers with mean scores 0.90 and 0.86 respectively, the graph below shows average F1-Score for each classifier in the cross-validation phase."
   ]
  },
  {
   "cell_type": "code",
   "execution_count": 278,
   "metadata": {},
   "outputs": [
    {
     "data": {
      "text/plain": [
       "Text(0.5, 1.0, 'Average F1-Score For Cross-Validation For Each Classifier')"
      ]
     },
     "execution_count": 278,
     "metadata": {},
     "output_type": "execute_result"
    },
    {
     "data": {
      "image/png": "[encoded data removed]",
      "text/plain": [
       "<Figure size 576x576 with 1 Axes>"
      ]
     },
     "metadata": {
      "needs_background": "light"
     },
     "output_type": "display_data"
    }
   ],
   "source": [
    "clf_cv_plt = pd.DataFrame({'Classifier': ['LogisticRegression', 'GaussianNB', 'DecisionTree', 'SVC', 'GradientBoosting', 'LogisticRegression', 'GaussianNB', 'DecisionTree', 'SVC', 'GradientBoosting'],\n",
    "'Score':['Train Score' ,'Train Score' ,'Train Score' ,'Train Score' ,'Train Score' ,'Test Score' ,'Test Score' ,'Test Score' ,'Test Score' ,'Test Score'],\n",
    "'Avr. Score':[0.55, 0.74, 1.00, 0.94, 0.93, 0.54, 0.74, 0.86, 0.83, 0.90]})\n",
    "\n",
    "plt.figure(figsize=(8,8))\n",
    "ax = sns.barplot(x=\"Classifier\",y=\"Avr. Score\", hue=\"Score\",data=clf_cv_plt)\n",
    "plt.title('Average F1-Score For Cross-Validation For Each Classifier',size = 20)"
   ]
  },
  {
   "cell_type": "markdown",
   "metadata": {},
   "source": [
    "### 7. Enhancements\n",
    "\n",
    "In this section we will try to enhance our kernel results, for now, we will try applying PCA before classification stage many articles mentioned it improve classification performance [\\[HERE\\]](https://towardsdatascience.com/dimensionality-reduction-does-pca-really-improve-classification-outcome-6e9ba21f0a32) , PCA is a technique for dimensionality reduction the main goal is to project data on the minimum number of principal components that represent the maximum number of variance of data, we will try a different number of dimensionality reduction components from 25 to 55 and observe output results from two classifiers (Decision Tree and Gradient Boosting) "
   ]
  },
  {
   "cell_type": "code",
   "execution_count": 93,
   "metadata": {},
   "outputs": [],
   "source": [
    "from sklearn.decomposition import PCA\n",
    "\n",
    "def pca_init(pca_comp):\n",
    "    pca = PCA(n_components=pca_comp)\n",
    "    # TODO: Apply PCA by fitting the good data with the same number of dimensions as features\n",
    "    pca.fit(X_train)\n",
    "\n",
    "    x_train_pca = pca.transform(X_train)\n",
    "    x_test_pca = pca.transform(X_test)\n",
    "    print('-----------------[PCA Component=',pca_comp,']-----------------', )\n",
    "    print('x_train_pca Shape : {}, y_train Shape : {}'.format(x_train_pca.shape, y_train.shape))\n",
    "    print('x_test_pca  Shape : {}, y_test  Shape : {}'.format(x_test_pca.shape,  y_test.shape ))\n",
    "    \n",
    "    return pca,x_train_pca, x_test_pca"
   ]
  },
  {
   "cell_type": "code",
   "execution_count": 253,
   "metadata": {},
   "outputs": [
    {
     "name": "stdout",
     "output_type": "stream",
     "text": [
      "-----------------[PCA Component= 20 ]-----------------\n",
      "x_train_pca Shape : (6664, 20), y_train Shape : (6664,)\n",
      "x_test_pca  Shape : (2222, 20), y_test  Shape : (2222,)\n",
      "- Classifier[DecisionTreeClassifier]\n",
      "- Training f1-score = (1.0000) in 0.3641s.\n",
      "- Testing f1-score = (0.9041) in 0.0020s.\n",
      "- Classifier[GradientBoostingClassifier]\n",
      "- Training f1-score = (0.9320) in 10.1617s.\n",
      "- Testing f1-score = (0.9397) in 0.1109s.\n",
      "-----------------[PCA Component= 25 ]-----------------\n",
      "x_train_pca Shape : (6664, 25), y_train Shape : (6664,)\n",
      "x_test_pca  Shape : (2222, 25), y_test  Shape : (2222,)\n",
      "- Classifier[DecisionTreeClassifier]\n",
      "- Training f1-score = (1.0000) in 0.5289s.\n",
      "- Testing f1-score = (0.9100) in 0.0040s.\n",
      "- Classifier[GradientBoostingClassifier]\n",
      "- Training f1-score = (0.9305) in 13.0687s.\n",
      "- Testing f1-score = (0.9419) in 0.0754s.\n",
      "-----------------[PCA Component= 30 ]-----------------\n",
      "x_train_pca Shape : (6664, 30), y_train Shape : (6664,)\n",
      "x_test_pca  Shape : (2222, 30), y_test  Shape : (2222,)\n",
      "- Classifier[DecisionTreeClassifier]\n",
      "- Training f1-score = (1.0000) in 0.6841s.\n",
      "- Testing f1-score = (0.9122) in 0.0040s.\n",
      "- Classifier[GradientBoostingClassifier]\n",
      "- Training f1-score = (0.9326) in 14.7596s.\n",
      "- Testing f1-score = (0.9392) in 0.0879s.\n",
      "-----------------[PCA Component= 35 ]-----------------\n",
      "x_train_pca Shape : (6664, 35), y_train Shape : (6664,)\n",
      "x_test_pca  Shape : (2222, 35), y_test  Shape : (2222,)\n",
      "- Classifier[DecisionTreeClassifier]\n",
      "- Training f1-score = (1.0000) in 0.8176s.\n",
      "- Testing f1-score = (0.9068) in 0.0030s.\n",
      "- Classifier[GradientBoostingClassifier]\n",
      "- Training f1-score = (0.9323) in 17.1452s.\n",
      "- Testing f1-score = (0.9383) in 0.0790s.\n",
      "-----------------[PCA Component= 40 ]-----------------\n",
      "x_train_pca Shape : (6664, 40), y_train Shape : (6664,)\n",
      "x_test_pca  Shape : (2222, 40), y_test  Shape : (2222,)\n",
      "- Classifier[DecisionTreeClassifier]\n",
      "- Training f1-score = (1.0000) in 0.9658s.\n",
      "- Testing f1-score = (0.9037) in 0.0060s.\n",
      "- Classifier[GradientBoostingClassifier]\n",
      "- Training f1-score = (0.9317) in 18.9877s.\n",
      "- Testing f1-score = (0.9365) in 0.1029s.\n",
      "-----------------[PCA Component= 45 ]-----------------\n",
      "x_train_pca Shape : (6664, 45), y_train Shape : (6664,)\n",
      "x_test_pca  Shape : (2222, 45), y_test  Shape : (2222,)\n",
      "- Classifier[DecisionTreeClassifier]\n",
      "- Training f1-score = (1.0000) in 0.9245s.\n",
      "- Testing f1-score = (0.9005) in 0.0050s.\n",
      "- Classifier[GradientBoostingClassifier]\n",
      "- Training f1-score = (0.9320) in 21.5983s.\n",
      "- Testing f1-score = (0.9397) in 0.0889s.\n",
      "-----------------[PCA Component= 50 ]-----------------\n",
      "x_train_pca Shape : (6664, 50), y_train Shape : (6664,)\n",
      "x_test_pca  Shape : (2222, 50), y_test  Shape : (2222,)\n",
      "- Classifier[DecisionTreeClassifier]\n",
      "- Training f1-score = (1.0000) in 1.2123s.\n",
      "- Testing f1-score = (0.8992) in 0.0060s.\n",
      "- Classifier[GradientBoostingClassifier]\n",
      "- Training f1-score = (0.9317) in 27.3309s.\n",
      "- Testing f1-score = (0.9370) in 0.0989s.\n",
      "-----------------[PCA Component= 55 ]-----------------\n",
      "x_train_pca Shape : (6664, 55), y_train Shape : (6664,)\n",
      "x_test_pca  Shape : (2222, 55), y_test  Shape : (2222,)\n",
      "- Classifier[DecisionTreeClassifier]\n",
      "- Training f1-score = (1.0000) in 1.4072s.\n",
      "- Testing f1-score = (0.8983) in 0.0070s.\n",
      "- Classifier[GradientBoostingClassifier]\n",
      "- Training f1-score = (0.9317) in 26.8346s.\n",
      "- Testing f1-score = (0.9374) in 0.1169s.\n"
     ]
    }
   ],
   "source": [
    "pca_componnents = [20,25,30,35,40,45,50,55]\n",
    "\n",
    "for pca_comp in pca_componnents:\n",
    "    pca, x_train_pca, x_test_pca = pca_init(pca_comp)\n",
    "    evaluate_classifier(clf_dtc, x_train_pca, x_test_pca, y_train, y_test)\n",
    "    evaluate_classifier(clf_gbc, x_train_pca, x_test_pca, y_train, y_test)"
   ]
  },
  {
   "cell_type": "markdown",
   "metadata": {},
   "source": [
    "Best score for Decision Tree Classifier was 0.9122 when was number of PCA component = 30 and best score for Gradient Boosting Classifier was 0.9419 when was number of PCA component = 25, both results are slightly increased however, we where expected better performance and lower time for training and prediction but we understand it will be very hard to enhance the results that already high (above 0.9), the graph below demonstrate F1-Score for prediction data for our selected classifiers over number of components ranges from 20 to 55"
   ]
  },
  {
   "cell_type": "code",
   "execution_count": 280,
   "metadata": {},
   "outputs": [
    {
     "data": {
      "text/plain": [
       "Text(0.5, 1.0, 'Prediction F1-Score For Selected Classifiers Over Number Of Components')"
      ]
     },
     "execution_count": 280,
     "metadata": {},
     "output_type": "execute_result"
    },
    {
     "data": {
      "image/png": "[encoded data removed]",
      "text/plain": [
       "<Figure size 576x576 with 1 Axes>"
      ]
     },
     "metadata": {
      "needs_background": "light"
     },
     "output_type": "display_data"
    }
   ],
   "source": [
    "clf_pca_plt = pd.DataFrame({'PCA-Component': [20,20,25,25,30,30,35,35,40,40,45,45,50,50,55,55],\n",
    "'Classifier':['DecisionTree' ,'GradientBoosting' ,'DecisionTree' ,'GradientBoosting' ,'DecisionTree' ,'GradientBoosting' ,'DecisionTree' ,'GradientBoosting' ,'DecisionTree' ,'GradientBoosting' ,'DecisionTree' ,'GradientBoosting' ,'DecisionTree' ,'GradientBoosting' ,'DecisionTree' ,'GradientBoosting'],\n",
    "'Score':[0.9041, 0.9397, 0.9100, 0.9419, 0.9122, 0.9392, 0.9068, 0.9383, 0.9037, 0.9365, 0.9005, 0.9397, 0.8992, 0.9370, 0.8983, 0.9374]})\n",
    "\n",
    "plt.figure(figsize=(8,8))\n",
    "ax = sns.barplot(x=\"PCA-Component\",y=\"Score\", hue=\"Classifier\",data=clf_pca_plt)\n",
    "plt.title('Prediction F1-Score For Selected Classifiers Over Number Of Components',size = 20)"
   ]
  },
  {
   "cell_type": "markdown",
   "metadata": {},
   "source": [
    "### 8. Final Kernel\n",
    "\n",
    "Our final kernel will use PCA technique with 25 principal components and Gradient Boosting Classifier to detect Mobile App success"
   ]
  },
  {
   "cell_type": "code",
   "execution_count": 272,
   "metadata": {},
   "outputs": [
    {
     "name": "stdout",
     "output_type": "stream",
     "text": [
      "-----------------[PCA Component= 25 ]-----------------\n",
      "x_train_pca Shape : (6664, 25), y_train Shape : (6664,)\n",
      "x_test_pca  Shape : (2222, 25), y_test  Shape : (2222,)\n",
      "- Classifier[GradientBoostingClassifier]\n",
      "- Training f1-score = (0.9308) in 12.4549s.\n",
      "- Testing f1-score = (0.9415) in 0.0879s.\n"
     ]
    }
   ],
   "source": [
    "best_comp_num = 25\n",
    "pca,x_train_pca, x_test_pca = pca_init(best_comp_num)\n",
    "evaluate_classifier(clf_gbc, x_train_pca, x_test_pca, y_train, y_test)"
   ]
  },
  {
   "cell_type": "markdown",
   "metadata": {},
   "source": [
    "## III) Test Kernel\n",
    "\n",
    "In this section, we will take 8 random Apps and check their number of installs and get their actual successful rate (Fail, limited success, success), then run against our final kernel then compare predicted output with actual one and calculate the score"
   ]
  },
  {
   "cell_type": "code",
   "execution_count": 266,
   "metadata": {},
   "outputs": [
    {
     "name": "stdout",
     "output_type": "stream",
     "text": [
      "[5421, 1630, 2832, 4199, 5943, 7138, 8815, 2531]\n"
     ]
    }
   ],
   "source": [
    "import random\n",
    "\n",
    "sample_num = 8\n",
    "row_index = []\n",
    "for x in range(sample_num):\n",
    "  row_index.append(random.randint(1,8887)) \n",
    "\n",
    "print(row_index)"
   ]
  },
  {
   "cell_type": "code",
   "execution_count": 267,
   "metadata": {},
   "outputs": [
    {
     "data": {
      "text/html": [
       "<div>\n",
       "<style scoped>\n",
       "    .dataframe tbody tr th:only-of-type {\n",
       "        vertical-align: middle;\n",
       "    }\n",
       "\n",
       "    .dataframe tbody tr th {\n",
       "        vertical-align: top;\n",
       "    }\n",
       "\n",
       "    .dataframe thead th {\n",
       "        text-align: right;\n",
       "    }\n",
       "</style>\n",
       "<table border=\"1\" class=\"dataframe\">\n",
       "  <thead>\n",
       "    <tr style=\"text-align: right;\">\n",
       "      <th></th>\n",
       "      <th>App</th>\n",
       "      <th>Category</th>\n",
       "      <th>Rating</th>\n",
       "      <th>Reviews</th>\n",
       "      <th>Size</th>\n",
       "      <th>Installs</th>\n",
       "      <th>Type</th>\n",
       "      <th>Price</th>\n",
       "      <th>Content Rating</th>\n",
       "      <th>Genres</th>\n",
       "      <th>Last Updated</th>\n",
       "      <th>Current Ver</th>\n",
       "      <th>Android Ver</th>\n",
       "    </tr>\n",
       "  </thead>\n",
       "  <tbody>\n",
       "    <tr>\n",
       "      <th>6342</th>\n",
       "      <td>BJ Foods</td>\n",
       "      <td>BUSINESS</td>\n",
       "      <td>5.0</td>\n",
       "      <td>3</td>\n",
       "      <td>1.5M</td>\n",
       "      <td>10+</td>\n",
       "      <td>Free</td>\n",
       "      <td>0</td>\n",
       "      <td>Everyone</td>\n",
       "      <td>Business</td>\n",
       "      <td>February 7, 2018</td>\n",
       "      <td>2.7</td>\n",
       "      <td>4.1 and up</td>\n",
       "    </tr>\n",
       "    <tr>\n",
       "      <th>1933</th>\n",
       "      <td>Alto's Adventure</td>\n",
       "      <td>GAME</td>\n",
       "      <td>4.6</td>\n",
       "      <td>515657</td>\n",
       "      <td>63M</td>\n",
       "      <td>10,000,000+</td>\n",
       "      <td>Free</td>\n",
       "      <td>0</td>\n",
       "      <td>Everyone</td>\n",
       "      <td>Action</td>\n",
       "      <td>June 5, 2018</td>\n",
       "      <td>1.7.1</td>\n",
       "      <td>4.0 and up</td>\n",
       "    </tr>\n",
       "    <tr>\n",
       "      <th>3384</th>\n",
       "      <td>ASUS Cover for ZenFone 2</td>\n",
       "      <td>PERSONALIZATION</td>\n",
       "      <td>4.4</td>\n",
       "      <td>43960</td>\n",
       "      <td>9.8M</td>\n",
       "      <td>10,000,000+</td>\n",
       "      <td>Free</td>\n",
       "      <td>0</td>\n",
       "      <td>Everyone</td>\n",
       "      <td>Personalization</td>\n",
       "      <td>December 1, 2017</td>\n",
       "      <td>2.0.0.39_171124</td>\n",
       "      <td>5.0 and up</td>\n",
       "    </tr>\n",
       "    <tr>\n",
       "      <th>4851</th>\n",
       "      <td>Theme eXp - Black Z Light</td>\n",
       "      <td>PERSONALIZATION</td>\n",
       "      <td>4.3</td>\n",
       "      <td>29540</td>\n",
       "      <td>4.3M</td>\n",
       "      <td>1,000,000+</td>\n",
       "      <td>Free</td>\n",
       "      <td>0</td>\n",
       "      <td>Everyone</td>\n",
       "      <td>Personalization</td>\n",
       "      <td>June 15, 2016</td>\n",
       "      <td>2.0</td>\n",
       "      <td>5.0 and up</td>\n",
       "    </tr>\n",
       "    <tr>\n",
       "      <th>7059</th>\n",
       "      <td>Dragon BZ Super Wallpapers</td>\n",
       "      <td>FAMILY</td>\n",
       "      <td>4.2</td>\n",
       "      <td>12</td>\n",
       "      <td>13M</td>\n",
       "      <td>1,000+</td>\n",
       "      <td>Free</td>\n",
       "      <td>0</td>\n",
       "      <td>Everyone</td>\n",
       "      <td>Entertainment</td>\n",
       "      <td>January 16, 2018</td>\n",
       "      <td>1.0</td>\n",
       "      <td>4.0.3 and up</td>\n",
       "    </tr>\n",
       "    <tr>\n",
       "      <th>8609</th>\n",
       "      <td>Svenska Dagbladet</td>\n",
       "      <td>NEWS_AND_MAGAZINES</td>\n",
       "      <td>2.6</td>\n",
       "      <td>820</td>\n",
       "      <td>Varies with device</td>\n",
       "      <td>100,000+</td>\n",
       "      <td>Free</td>\n",
       "      <td>0</td>\n",
       "      <td>Everyone</td>\n",
       "      <td>News &amp; Magazines</td>\n",
       "      <td>February 13, 2018</td>\n",
       "      <td>Varies with device</td>\n",
       "      <td>Varies with device</td>\n",
       "    </tr>\n",
       "    <tr>\n",
       "      <th>10737</th>\n",
       "      <td>FP Legacy</td>\n",
       "      <td>MAPS_AND_NAVIGATION</td>\n",
       "      <td>4.0</td>\n",
       "      <td>3</td>\n",
       "      <td>44M</td>\n",
       "      <td>1,000+</td>\n",
       "      <td>Free</td>\n",
       "      <td>0</td>\n",
       "      <td>Everyone</td>\n",
       "      <td>Maps &amp; Navigation</td>\n",
       "      <td>July 2, 2018</td>\n",
       "      <td>3.4.0</td>\n",
       "      <td>4.0 and up</td>\n",
       "    </tr>\n",
       "    <tr>\n",
       "      <th>3039</th>\n",
       "      <td>Golfshot Plus: Golf GPS</td>\n",
       "      <td>SPORTS</td>\n",
       "      <td>4.1</td>\n",
       "      <td>3387</td>\n",
       "      <td>25M</td>\n",
       "      <td>50,000+</td>\n",
       "      <td>Paid</td>\n",
       "      <td>$29.99</td>\n",
       "      <td>Everyone</td>\n",
       "      <td>Sports</td>\n",
       "      <td>July 11, 2018</td>\n",
       "      <td>4.18.0</td>\n",
       "      <td>4.1 and up</td>\n",
       "    </tr>\n",
       "  </tbody>\n",
       "</table>\n",
       "</div>"
      ],
      "text/plain": [
       "                              App             Category  Rating Reviews  \\\n",
       "6342                     BJ Foods             BUSINESS     5.0       3   \n",
       "1933             Alto's Adventure                 GAME     4.6  515657   \n",
       "3384     ASUS Cover for ZenFone 2      PERSONALIZATION     4.4   43960   \n",
       "4851    Theme eXp - Black Z Light      PERSONALIZATION     4.3   29540   \n",
       "7059   Dragon BZ Super Wallpapers               FAMILY     4.2      12   \n",
       "8609            Svenska Dagbladet   NEWS_AND_MAGAZINES     2.6     820   \n",
       "10737                   FP Legacy  MAPS_AND_NAVIGATION     4.0       3   \n",
       "3039      Golfshot Plus: Golf GPS               SPORTS     4.1    3387   \n",
       "\n",
       "                     Size     Installs  Type   Price Content Rating  \\\n",
       "6342                 1.5M          10+  Free       0       Everyone   \n",
       "1933                  63M  10,000,000+  Free       0       Everyone   \n",
       "3384                 9.8M  10,000,000+  Free       0       Everyone   \n",
       "4851                 4.3M   1,000,000+  Free       0       Everyone   \n",
       "7059                  13M       1,000+  Free       0       Everyone   \n",
       "8609   Varies with device     100,000+  Free       0       Everyone   \n",
       "10737                 44M       1,000+  Free       0       Everyone   \n",
       "3039                  25M      50,000+  Paid  $29.99       Everyone   \n",
       "\n",
       "                  Genres       Last Updated         Current Ver  \\\n",
       "6342            Business   February 7, 2018                 2.7   \n",
       "1933              Action       June 5, 2018               1.7.1   \n",
       "3384     Personalization   December 1, 2017     2.0.0.39_171124   \n",
       "4851     Personalization      June 15, 2016                 2.0   \n",
       "7059       Entertainment   January 16, 2018                 1.0   \n",
       "8609    News & Magazines  February 13, 2018  Varies with device   \n",
       "10737  Maps & Navigation       July 2, 2018               3.4.0   \n",
       "3039              Sports      July 11, 2018              4.18.0   \n",
       "\n",
       "              Android Ver  \n",
       "6342           4.1 and up  \n",
       "1933           4.0 and up  \n",
       "3384           5.0 and up  \n",
       "4851           5.0 and up  \n",
       "7059         4.0.3 and up  \n",
       "8609   Varies with device  \n",
       "10737          4.0 and up  \n",
       "3039           4.1 and up  "
      ]
     },
     "execution_count": 267,
     "metadata": {},
     "output_type": "execute_result"
    }
   ],
   "source": [
    "sample_data = raw_data.iloc[row_index]\n",
    "sample_data.head(n=sample_num)"
   ]
  },
  {
   "cell_type": "markdown",
   "metadata": {},
   "source": [
    "The data above shows random Apps fall under different installs category:\n",
    "\n",
    "* 3 failed Apps (1000 install or below): BJ Foods, Dragon BZ Super Wallpapers, FP Legacy.\n",
    "* 2 limited success App (between 1K and 1M): Svenska Dagbladet, Golfshot Plus: Golf GPS.\t\n",
    "* 3 success Apps (1M and more): Alto's Adventure, ASUS Cover for ZenFone 2, Theme eXp - Black Z Light"
   ]
  },
  {
   "cell_type": "markdown",
   "metadata": {},
   "source": [
    "The mapped indices in pre-processing data are as shown"
   ]
  },
  {
   "cell_type": "code",
   "execution_count": 268,
   "metadata": {},
   "outputs": [
    {
     "name": "stdout",
     "output_type": "stream",
     "text": [
      "[6342, 1933, 3384, 4851, 7059, 8609, 10737, 3039]\n"
     ]
    },
    {
     "data": {
      "text/html": [
       "<div>\n",
       "<style scoped>\n",
       "    .dataframe tbody tr th:only-of-type {\n",
       "        vertical-align: middle;\n",
       "    }\n",
       "\n",
       "    .dataframe tbody tr th {\n",
       "        vertical-align: top;\n",
       "    }\n",
       "\n",
       "    .dataframe thead th {\n",
       "        text-align: right;\n",
       "    }\n",
       "</style>\n",
       "<table border=\"1\" class=\"dataframe\">\n",
       "  <thead>\n",
       "    <tr style=\"text-align: right;\">\n",
       "      <th></th>\n",
       "      <th>Category</th>\n",
       "      <th>Rating</th>\n",
       "      <th>Reviews</th>\n",
       "      <th>Size</th>\n",
       "      <th>Installs</th>\n",
       "      <th>Type</th>\n",
       "      <th>Price</th>\n",
       "      <th>Content Rating</th>\n",
       "      <th>Genres_Action</th>\n",
       "      <th>Genres_Action &amp; Adventure</th>\n",
       "      <th>...</th>\n",
       "      <th>Genres_Simulation</th>\n",
       "      <th>Genres_Social</th>\n",
       "      <th>Genres_Sports</th>\n",
       "      <th>Genres_Strategy</th>\n",
       "      <th>Genres_Tools</th>\n",
       "      <th>Genres_Travel &amp; Local</th>\n",
       "      <th>Genres_Trivia</th>\n",
       "      <th>Genres_Video Players &amp; Editors</th>\n",
       "      <th>Genres_Weather</th>\n",
       "      <th>Genres_Word</th>\n",
       "    </tr>\n",
       "  </thead>\n",
       "  <tbody>\n",
       "    <tr>\n",
       "      <th>6342</th>\n",
       "      <td>4</td>\n",
       "      <td>5.0</td>\n",
       "      <td>3</td>\n",
       "      <td>0.015000</td>\n",
       "      <td>0</td>\n",
       "      <td>0</td>\n",
       "      <td>0.00</td>\n",
       "      <td>1</td>\n",
       "      <td>0</td>\n",
       "      <td>0</td>\n",
       "      <td>...</td>\n",
       "      <td>0</td>\n",
       "      <td>0</td>\n",
       "      <td>0</td>\n",
       "      <td>0</td>\n",
       "      <td>0</td>\n",
       "      <td>0</td>\n",
       "      <td>0</td>\n",
       "      <td>0</td>\n",
       "      <td>0</td>\n",
       "      <td>0</td>\n",
       "    </tr>\n",
       "    <tr>\n",
       "      <th>1933</th>\n",
       "      <td>14</td>\n",
       "      <td>4.6</td>\n",
       "      <td>515657</td>\n",
       "      <td>0.630000</td>\n",
       "      <td>2</td>\n",
       "      <td>0</td>\n",
       "      <td>0.00</td>\n",
       "      <td>1</td>\n",
       "      <td>1</td>\n",
       "      <td>0</td>\n",
       "      <td>...</td>\n",
       "      <td>0</td>\n",
       "      <td>0</td>\n",
       "      <td>0</td>\n",
       "      <td>0</td>\n",
       "      <td>0</td>\n",
       "      <td>0</td>\n",
       "      <td>0</td>\n",
       "      <td>0</td>\n",
       "      <td>0</td>\n",
       "      <td>0</td>\n",
       "    </tr>\n",
       "    <tr>\n",
       "      <th>3384</th>\n",
       "      <td>23</td>\n",
       "      <td>4.4</td>\n",
       "      <td>43960</td>\n",
       "      <td>0.098000</td>\n",
       "      <td>2</td>\n",
       "      <td>0</td>\n",
       "      <td>0.00</td>\n",
       "      <td>1</td>\n",
       "      <td>0</td>\n",
       "      <td>0</td>\n",
       "      <td>...</td>\n",
       "      <td>0</td>\n",
       "      <td>0</td>\n",
       "      <td>0</td>\n",
       "      <td>0</td>\n",
       "      <td>0</td>\n",
       "      <td>0</td>\n",
       "      <td>0</td>\n",
       "      <td>0</td>\n",
       "      <td>0</td>\n",
       "      <td>0</td>\n",
       "    </tr>\n",
       "    <tr>\n",
       "      <th>4851</th>\n",
       "      <td>23</td>\n",
       "      <td>4.3</td>\n",
       "      <td>29540</td>\n",
       "      <td>0.043000</td>\n",
       "      <td>2</td>\n",
       "      <td>0</td>\n",
       "      <td>0.00</td>\n",
       "      <td>1</td>\n",
       "      <td>0</td>\n",
       "      <td>0</td>\n",
       "      <td>...</td>\n",
       "      <td>0</td>\n",
       "      <td>0</td>\n",
       "      <td>0</td>\n",
       "      <td>0</td>\n",
       "      <td>0</td>\n",
       "      <td>0</td>\n",
       "      <td>0</td>\n",
       "      <td>0</td>\n",
       "      <td>0</td>\n",
       "      <td>0</td>\n",
       "    </tr>\n",
       "    <tr>\n",
       "      <th>7059</th>\n",
       "      <td>11</td>\n",
       "      <td>4.2</td>\n",
       "      <td>12</td>\n",
       "      <td>0.130000</td>\n",
       "      <td>0</td>\n",
       "      <td>0</td>\n",
       "      <td>0.00</td>\n",
       "      <td>1</td>\n",
       "      <td>0</td>\n",
       "      <td>0</td>\n",
       "      <td>...</td>\n",
       "      <td>0</td>\n",
       "      <td>0</td>\n",
       "      <td>0</td>\n",
       "      <td>0</td>\n",
       "      <td>0</td>\n",
       "      <td>0</td>\n",
       "      <td>0</td>\n",
       "      <td>0</td>\n",
       "      <td>0</td>\n",
       "      <td>0</td>\n",
       "    </tr>\n",
       "    <tr>\n",
       "      <th>8609</th>\n",
       "      <td>21</td>\n",
       "      <td>2.6</td>\n",
       "      <td>820</td>\n",
       "      <td>0.126438</td>\n",
       "      <td>1</td>\n",
       "      <td>0</td>\n",
       "      <td>0.00</td>\n",
       "      <td>1</td>\n",
       "      <td>0</td>\n",
       "      <td>0</td>\n",
       "      <td>...</td>\n",
       "      <td>0</td>\n",
       "      <td>0</td>\n",
       "      <td>0</td>\n",
       "      <td>0</td>\n",
       "      <td>0</td>\n",
       "      <td>0</td>\n",
       "      <td>0</td>\n",
       "      <td>0</td>\n",
       "      <td>0</td>\n",
       "      <td>0</td>\n",
       "    </tr>\n",
       "    <tr>\n",
       "      <th>10737</th>\n",
       "      <td>19</td>\n",
       "      <td>4.0</td>\n",
       "      <td>3</td>\n",
       "      <td>0.440000</td>\n",
       "      <td>0</td>\n",
       "      <td>0</td>\n",
       "      <td>0.00</td>\n",
       "      <td>1</td>\n",
       "      <td>0</td>\n",
       "      <td>0</td>\n",
       "      <td>...</td>\n",
       "      <td>0</td>\n",
       "      <td>0</td>\n",
       "      <td>0</td>\n",
       "      <td>0</td>\n",
       "      <td>0</td>\n",
       "      <td>0</td>\n",
       "      <td>0</td>\n",
       "      <td>0</td>\n",
       "      <td>0</td>\n",
       "      <td>0</td>\n",
       "    </tr>\n",
       "    <tr>\n",
       "      <th>3039</th>\n",
       "      <td>28</td>\n",
       "      <td>4.1</td>\n",
       "      <td>3387</td>\n",
       "      <td>0.250000</td>\n",
       "      <td>1</td>\n",
       "      <td>1</td>\n",
       "      <td>29.99</td>\n",
       "      <td>1</td>\n",
       "      <td>0</td>\n",
       "      <td>0</td>\n",
       "      <td>...</td>\n",
       "      <td>0</td>\n",
       "      <td>0</td>\n",
       "      <td>1</td>\n",
       "      <td>0</td>\n",
       "      <td>0</td>\n",
       "      <td>0</td>\n",
       "      <td>0</td>\n",
       "      <td>0</td>\n",
       "      <td>0</td>\n",
       "      <td>0</td>\n",
       "    </tr>\n",
       "  </tbody>\n",
       "</table>\n",
       "<p>8 rows × 61 columns</p>\n",
       "</div>"
      ],
      "text/plain": [
       "       Category  Rating  Reviews      Size  Installs  Type  Price  \\\n",
       "6342          4     5.0        3  0.015000         0     0   0.00   \n",
       "1933         14     4.6   515657  0.630000         2     0   0.00   \n",
       "3384         23     4.4    43960  0.098000         2     0   0.00   \n",
       "4851         23     4.3    29540  0.043000         2     0   0.00   \n",
       "7059         11     4.2       12  0.130000         0     0   0.00   \n",
       "8609         21     2.6      820  0.126438         1     0   0.00   \n",
       "10737        19     4.0        3  0.440000         0     0   0.00   \n",
       "3039         28     4.1     3387  0.250000         1     1  29.99   \n",
       "\n",
       "       Content Rating  Genres_Action  Genres_Action & Adventure  ...  \\\n",
       "6342                1              0                          0  ...   \n",
       "1933                1              1                          0  ...   \n",
       "3384                1              0                          0  ...   \n",
       "4851                1              0                          0  ...   \n",
       "7059                1              0                          0  ...   \n",
       "8609                1              0                          0  ...   \n",
       "10737               1              0                          0  ...   \n",
       "3039                1              0                          0  ...   \n",
       "\n",
       "       Genres_Simulation  Genres_Social  Genres_Sports  Genres_Strategy  \\\n",
       "6342                   0              0              0                0   \n",
       "1933                   0              0              0                0   \n",
       "3384                   0              0              0                0   \n",
       "4851                   0              0              0                0   \n",
       "7059                   0              0              0                0   \n",
       "8609                   0              0              0                0   \n",
       "10737                  0              0              0                0   \n",
       "3039                   0              0              1                0   \n",
       "\n",
       "       Genres_Tools  Genres_Travel & Local  Genres_Trivia  \\\n",
       "6342              0                      0              0   \n",
       "1933              0                      0              0   \n",
       "3384              0                      0              0   \n",
       "4851              0                      0              0   \n",
       "7059              0                      0              0   \n",
       "8609              0                      0              0   \n",
       "10737             0                      0              0   \n",
       "3039              0                      0              0   \n",
       "\n",
       "       Genres_Video Players & Editors  Genres_Weather  Genres_Word  \n",
       "6342                                0               0            0  \n",
       "1933                                0               0            0  \n",
       "3384                                0               0            0  \n",
       "4851                                0               0            0  \n",
       "7059                                0               0            0  \n",
       "8609                                0               0            0  \n",
       "10737                               0               0            0  \n",
       "3039                                0               0            0  \n",
       "\n",
       "[8 rows x 61 columns]"
      ]
     },
     "execution_count": 268,
     "metadata": {},
     "output_type": "execute_result"
    }
   ],
   "source": [
    "row_id = list(sample_data.index) \n",
    "print(row_id)\n",
    "sample_preprocessed = preprocessed_data.loc[row_id]\n",
    "sample_preprocessed.head(n=sample_num)"
   ]
  },
  {
   "cell_type": "markdown",
   "metadata": {},
   "source": [
    "We will test this random data with our chosen kernel and observe the output "
   ]
  },
  {
   "cell_type": "code",
   "execution_count": 269,
   "metadata": {},
   "outputs": [],
   "source": [
    "sample_result_actual = sample_preprocessed['Installs']\n",
    "sample_preprocessed.drop(labels=['Installs'], axis=1, inplace=True)"
   ]
  },
  {
   "cell_type": "code",
   "execution_count": 273,
   "metadata": {},
   "outputs": [
    {
     "name": "stdout",
     "output_type": "stream",
     "text": [
      "[0 2 2 2 0 1 0 1]\n"
     ]
    }
   ],
   "source": [
    "sample_pca = pca.transform(sample_preprocessed)\n",
    "sample_result = clf_gbc.predict(sample_pca)\n",
    "print(sample_result)"
   ]
  },
  {
   "cell_type": "markdown",
   "metadata": {},
   "source": [
    "We will calculate performance via F1-Score method"
   ]
  },
  {
   "cell_type": "code",
   "execution_count": 274,
   "metadata": {},
   "outputs": [
    {
     "data": {
      "text/plain": [
       "1.0"
      ]
     },
     "execution_count": 274,
     "metadata": {},
     "output_type": "execute_result"
    }
   ],
   "source": [
    "performance_metric(sample_result,sample_result_actual)"
   ]
  },
  {
   "cell_type": "markdown",
   "metadata": {},
   "source": [
    "Our kernel detect **ALL** eight random Apps successfully."
   ]
  },
  {
   "cell_type": "markdown",
   "metadata": {},
   "source": [
    "## IV) Conclusion\n",
    "We successfully implement a kernel for predicting number of installs range the App can obtain if uploaded to Google store given set of features App category, Genres, expected rating,... which indicate if the App will be successful, limited successful, failed, our kernel accuracy is 0.9415 which is high accuracy then we select 8 random Apps observing their features and run against our model and it predicting them all successfully."
   ]
  },
  {
   "cell_type": "markdown",
   "metadata": {},
   "source": [
    "## V) Improvement"
   ]
  },
  {
   "cell_type": "markdown",
   "metadata": {},
   "source": [
    "To enhance kernel accuracy we can apply the following actions:\n",
    "* Try to tune classifiers  parameters instead of using default values (Grid Search technique might be using)\n",
    "* Lower number PCA components intervals to 2 (for example) instead of 5 to try more numbers.\n",
    "* Try Neural Network for classification.\n",
    "* Can try increase number of label categories to 4 instead 3 to be (fail, limited success, success, booming)"
   ]
  }
 ],
 "metadata": {
  "kernelspec": {
   "display_name": "Python 3",
   "language": "python",
   "name": "python3"
  },
  "language_info": {
   "codemirror_mode": {
    "name": "ipython",
    "version": 3
   },
   "file_extension": ".py",
   "mimetype": "text/x-python",
   "name": "python",
   "nbconvert_exporter": "python",
   "pygments_lexer": "ipython3",
   "version": "3.7.3"
  }
 },
 "nbformat": 4,
 "nbformat_minor": 2
}
